{
 "cells": [
  {
   "cell_type": "markdown",
   "metadata": {},
   "source": [
    "# Hierarchical clustering\n",
    "\n",
    "\n",
    "The objective of this lab is to test hierarchical clustering on both synthetic and real data and to select the $k$ best clusterings from the dendrogram by $k$-means clustering.\n",
    "\n",
    "We use graph data, since real graphs have a natural **multi-scale** structure.\n",
    "\n",
    "You will find below Python code for:\n",
    "* loading and displaying a graph (you will need the [networkx](https://networkx.github.io) package)\n",
    "* embedding the graph in the Euclidean space to get vector data\n",
    "* clustering these vector data by the Ward method (hierarchical clustering)\n",
    "* extract clusterings from the resulting **dendrogram**"
   ]
  },
  {
   "cell_type": "markdown",
   "metadata": {},
   "source": [
    "## To do\n",
    "\n",
    "1. Apply weighted $k$-means to the heights of the dendrogram (1D data = distances from the bottom of the tree) to select the $k$ best clusterings. The weight of a given height of the dendrogram must correspond to the number of samples in the corresponding cluster (branching point of the dendrogram).\n",
    "2. Display the 2 best clusterings of [Open Flights](http://openflights.org) and other datasets of your choice."
   ]
  },
  {
   "cell_type": "markdown",
   "metadata": {},
   "source": [
    "## Import packages"
   ]
  },
  {
   "cell_type": "code",
   "execution_count": null,
   "metadata": {},
   "outputs": [],
   "source": [
    "import collections\n",
    "import numpy as np\n",
    "import matplotlib.pyplot as plt\n",
    "from scipy import sparse\n",
    "import scipy.cluster.hierarchy as sch"
   ]
  },
  {
   "cell_type": "code",
   "execution_count": null,
   "metadata": {},
   "outputs": [],
   "source": [
    "from sklearn.metrics import adjusted_rand_score as ari"
   ]
  },
  {
   "cell_type": "code",
   "execution_count": null,
   "metadata": {},
   "outputs": [],
   "source": [
    "import networkx as nx"
   ]
  },
  {
   "cell_type": "code",
   "execution_count": null,
   "metadata": {},
   "outputs": [],
   "source": [
    "import warnings\n",
    "warnings.filterwarnings(\"ignore\")"
   ]
  },
  {
   "cell_type": "markdown",
   "metadata": {},
   "source": [
    "## A simple dataset"
   ]
  },
  {
   "cell_type": "markdown",
   "metadata": {},
   "source": [
    "We first apply hierarchical clustering on a simple dataset: the [Karate Club](https://en.wikipedia.org/wiki/Zachary%27s_karate_club)."
   ]
  },
  {
   "cell_type": "code",
   "execution_count": null,
   "metadata": {},
   "outputs": [],
   "source": [
    "graph = nx.karate_club_graph()"
   ]
  },
  {
   "cell_type": "code",
   "execution_count": null,
   "metadata": {},
   "outputs": [],
   "source": [
    "print(nx.info(graph))"
   ]
  },
  {
   "cell_type": "code",
   "execution_count": null,
   "metadata": {},
   "outputs": [],
   "source": [
    "# Get labels (for more information, see the description of the dataset)\n",
    "clubs = nx.get_node_attributes(graph, 'club')\n",
    "club_names = list(set(clubs.values()))\n",
    "club_indices = {name: i for i,name in enumerate(club_names)}\n",
    "labels = np.array([club_indices[graph.node[i]['club']] for i in graph.nodes])"
   ]
  },
  {
   "cell_type": "code",
   "execution_count": null,
   "metadata": {},
   "outputs": [],
   "source": [
    "COLORS = np.array(['b', 'g', 'r', 'c', 'm', 'y', 'k', 'w', 'grey', 'orange'])"
   ]
  },
  {
   "cell_type": "code",
   "execution_count": null,
   "metadata": {},
   "outputs": [],
   "source": [
    "def display_graph(graph,labels = None,pos = None,figsize = (5,5),node_size = 200,alpha = 0.1):\n",
    "    plt.figure(figsize=figsize)\n",
    "    plt.axis('off')\n",
    "    if pos is None:\n",
    "        pos = nx.spring_layout(graph)\n",
    "    nodes = nx.draw_networkx_nodes(graph,pos,node_size = node_size,node_color='w')\n",
    "    nodes.set_edgecolor('k')\n",
    "    nx.draw_networkx_edges(graph,pos,alpha=alpha)\n",
    "    if labels is not None:\n",
    "        nodes = nx.draw_networkx_nodes(graph,pos,node_size = node_size,node_color = COLORS[labels % len(COLORS)])\n",
    "        nodes.set_edgecolor('k')\n",
    "    plt.show()    "
   ]
  },
  {
   "cell_type": "code",
   "execution_count": null,
   "metadata": {
    "scrolled": true
   },
   "outputs": [],
   "source": [
    "pos = nx.spring_layout(graph)\n",
    "display_graph(graph, labels, pos)"
   ]
  },
  {
   "cell_type": "markdown",
   "metadata": {},
   "source": [
    "## Spectral embedding"
   ]
  },
  {
   "cell_type": "code",
   "execution_count": null,
   "metadata": {},
   "outputs": [],
   "source": [
    "adjacency = nx.to_scipy_sparse_matrix(graph)"
   ]
  },
  {
   "cell_type": "code",
   "execution_count": null,
   "metadata": {},
   "outputs": [],
   "source": [
    "def spectral_embedding(adjacency, k):\n",
    "    '''Spectral embedding\n",
    "\n",
    "        Parameters\n",
    "        ----------\n",
    "        adjacency: sparse symmetric matrix \n",
    "            Adjacency matrix of a graph\n",
    "\n",
    "        k: integer\n",
    "            Dimension of the embedding\n",
    "            \n",
    "        Returns\n",
    "        -------\n",
    "        embedding: array of shape(dim,k)\n",
    "            Spectral embedding on the unit sphere\n",
    "    '''\n",
    "    \n",
    "    # Laplacian matrix\n",
    "    n = adjacency.shape[0] \n",
    "    degrees = sparse.csr_matrix.dot(adjacency, np.ones(n))\n",
    "    normalization = sparse.diags(1. / np.sqrt(degrees), format = 'csr')\n",
    "    laplacian = sparse.identity(n) - normalization.dot(adjacency.dot(normalization))\n",
    "\n",
    "    # Spectral embedding\n",
    "    eigenvalues, eigenvectors = sparse.linalg.eigsh(laplacian, min(k + 1,n - 1), which='SM')\n",
    "    embedding = np.array(normalization.dot(eigenvectors[:,1:]))    \n",
    "    embedding = (embedding.T / np.linalg.norm(embedding, axis = 1)).T\n",
    "    \n",
    "    return embedding"
   ]
  },
  {
   "cell_type": "code",
   "execution_count": null,
   "metadata": {},
   "outputs": [],
   "source": [
    "samples = spectral_embedding(adjacency,2)"
   ]
  },
  {
   "cell_type": "markdown",
   "metadata": {},
   "source": [
    "## Hierarchical clustering"
   ]
  },
  {
   "cell_type": "code",
   "execution_count": null,
   "metadata": {},
   "outputs": [],
   "source": [
    "D = sch.linkage(samples, method =  'ward')"
   ]
  },
  {
   "cell_type": "code",
   "execution_count": null,
   "metadata": {},
   "outputs": [],
   "source": [
    "plt.figure(figsize = (6,8))\n",
    "sch.dendrogram(D,orientation = 'left',color_threshold = 0.3,leaf_font_size = 8)\n",
    "plt.show()"
   ]
  },
  {
   "cell_type": "code",
   "execution_count": null,
   "metadata": {},
   "outputs": [],
   "source": [
    "def select_clustering(D, k):\n",
    "    '''Clustering with k clusters'''\n",
    "    n = np.shape(D)[0] + 1\n",
    "    clusters = {i:[i] for i in range(n)}\n",
    "    for t in range(n - k):\n",
    "        clusters[n + t] = clusters.pop(int(D[t][0])) + clusters.pop(int(D[t][1]))\n",
    "    cluster_list = sorted(clusters.values(), key = len, reverse = True)\n",
    "    labels = np.zeros(n, dtype = int)\n",
    "    for j,index in enumerate(cluster_list):\n",
    "        labels[np.array(index)] = j\n",
    "    return labels"
   ]
  },
  {
   "cell_type": "code",
   "execution_count": null,
   "metadata": {},
   "outputs": [],
   "source": [
    "labels_pred = select_clustering(D, 2)"
   ]
  },
  {
   "cell_type": "code",
   "execution_count": null,
   "metadata": {},
   "outputs": [],
   "source": [
    "display_graph(graph, labels_pred, pos)"
   ]
  },
  {
   "cell_type": "code",
   "execution_count": null,
   "metadata": {},
   "outputs": [],
   "source": [
    "ari(labels, labels_pred)"
   ]
  },
  {
   "cell_type": "markdown",
   "metadata": {},
   "source": [
    "## Selection of best clusterings by weighted $k$-means"
   ]
  },
  {
   "cell_type": "markdown",
   "metadata": {},
   "source": [
    "It seems that the two best clusterings of the Karate club are for cuts of the dendrogram around 2 and 5:"
   ]
  },
  {
   "cell_type": "code",
   "execution_count": null,
   "metadata": {},
   "outputs": [],
   "source": [
    "number_clusterings = 2\n",
    "cut_positions = [2,5]"
   ]
  },
  {
   "cell_type": "code",
   "execution_count": null,
   "metadata": {},
   "outputs": [],
   "source": [
    "plt.figure(figsize = (6,8))\n",
    "sch.dendrogram(D,orientation = 'left',color_threshold = 0.3,leaf_font_size = 8)\n",
    "for j in range(number_clusterings):\n",
    "    plt.axvline(cut_positions[j],ls = '--',color = 'k')\n",
    "plt.show()"
   ]
  },
  {
   "cell_type": "markdown",
   "metadata": {},
   "source": [
    "The objective is to get these cut positions by weighted $k$-means on the heights of the dendrogram:"
   ]
  },
  {
   "cell_type": "code",
   "execution_count": null,
   "metadata": {},
   "outputs": [],
   "source": [
    "class KMeans:\n",
    "    '''k-means algorithm with sample weights\n",
    "    \n",
    "    Parameters\n",
    "    ----------\n",
    "    n_clusters: int, default: 8\n",
    "        Number of clusters.\n",
    "    \n",
    "    n_init : int, default: 10\n",
    "        Number of instances of k-means, each with different initial centers. \n",
    "        The output is that of the best instance (in terms of inertia).\n",
    "    \n",
    "    n_iter: int, default: 300\n",
    "        Number of iterations for each instance of k-means.\n",
    "        \n",
    "    algorithm: \"random\" or \"++\", default:\"++\"\n",
    "        Algorithm for initializing the centers; \"++\" corresponds to k-means++.\n",
    "    \n",
    "    seed: int, default: None\n",
    "        Seed for the random generation of initial centers.\n",
    "        \n",
    "    verbose : boolean, optional\n",
    "        Verbose mode.\n",
    "    \n",
    "    Attributes\n",
    "    ----------\n",
    "    labels_: array, shape(n_samples,)\n",
    "        Label of each sample.\n",
    "        \n",
    "    centers_ : array, shape(n_clusters, n_features)\n",
    "        Cluster centers.\n",
    "        \n",
    "    inertias_: array, shape(n_clusters,)\n",
    "        Cluster inertias (sum of square distances).\n",
    "    '''\n",
    "\n",
    "    def __init__(self, n_clusters=8, n_init=10, n_iter=300, algorithm='++', seed=None, verbose = False):\n",
    "        self.n_clusters = n_clusters\n",
    "        self.n_init = n_init\n",
    "        self.n_iter = n_iter\n",
    "        self.algorithm = algorithm\n",
    "        self.seed = seed\n",
    "        self.verbose = verbose\n",
    "        self.labels_ = None\n",
    "        self.centers_ = None\n",
    "        self.inertias_ = None\n",
    "       \n",
    "    def fit(self, X, weights):\n",
    "        '''Cluster data X using k-means\n",
    "    \n",
    "        Parameters\n",
    "        ----------\n",
    "        X: array, shape(n_samples,n_features)\n",
    "            Data samples to cluster.\n",
    "            \n",
    "        weights: array, shape(n_samples,)\n",
    "            Sample weights.\n",
    "        '''        \n",
    "        \n",
    "        def init_centers(self, X, weights):\n",
    "            p = weights / np.sum(weights)\n",
    "            if self.algorithm == 'random':\n",
    "                # random centers \n",
    "                samples = np.random.choice(X.shape[0], size = self.n_clusters, p = p)\n",
    "                centers = X[samples]\n",
    "            else:\n",
    "                # k-means++\n",
    "                centers = []\n",
    "                centers.append(X[np.random.randint(X.shape[0])])\n",
    "                distance = np.full(X.shape[0], np.inf)\n",
    "                for j in range(1,self.n_clusters):\n",
    "                    distance = np.minimum(np.linalg.norm(X - centers[-1], axis=1), distance)\n",
    "                    p = np.square(distance) / np.sum(np.square(distance))\n",
    "                    sample = np.random.choice(X.shape[0], p = p)\n",
    "                    centers.append(X[sample])\n",
    "            return np.array(centers)\n",
    "        \n",
    "        def compute_centers(self, X, weights, labels):\n",
    "            centers = []\n",
    "            for j in range(self.n_clusters):\n",
    "                index = np.where(labels == j)[0]\n",
    "                if len(index):\n",
    "                    centers.append(np.average(X[index],axis = 0,weights = weights[index]))\n",
    "                else:\n",
    "                    # reinit center in case of empty cluster\n",
    "                    centers.append(X[np.random.choice(X.shape[0])])\n",
    "            return np.array(centers)\n",
    "\n",
    "        def compute_distances(self, X, centers):\n",
    "            distances = []\n",
    "            for j in range(self.n_clusters):\n",
    "                distances.append(np.linalg.norm(X - centers[j], axis=1))\n",
    "            return np.array(distances)\n",
    "            \n",
    "        def compute_inertias(self, X, weights, centers, clusters):\n",
    "            inertias = []\n",
    "            for j in range(self.n_clusters):\n",
    "                index = np.where(clusters == j)[0]\n",
    "                inertias.append(np.sum(np.square(np.linalg.norm(X[index] - centers[j], axis=1) * weights[index])))\n",
    "            return np.array(inertias)\n",
    "    \n",
    "        def single_run_kmeans(self, X, weights):\n",
    "            centers = init_centers(self, X, weights)\n",
    "            for i in range(self.n_iter):\n",
    "                centers_old = centers.copy()\n",
    "                distances = compute_distances(self, X, centers)\n",
    "                labels = np.argmin(distances, axis=0)  \n",
    "                centers = compute_centers(self, X, weights, labels)\n",
    "                if np.array_equal(centers, centers_old):\n",
    "                    break\n",
    "            inertias = compute_inertias(self, X, weights, centers, labels)\n",
    "            return labels, centers, inertias\n",
    "            \n",
    "        np.random.seed(self.seed)\n",
    "        best_inertia = None\n",
    "        # case of 1D samples \n",
    "        if len(X.shape) == 1:\n",
    "            X = X.reshape(X.shape[0],-1)\n",
    "        # select the best instance of k-means\n",
    "        for i in range(self.n_init):\n",
    "            if self.verbose:\n",
    "                print(\"Instance \",i)\n",
    "            labels, centers, inertias = single_run_kmeans(self, X, weights)\n",
    "            inertia = np.sum(inertias)\n",
    "            if best_inertia is None or inertia < best_inertia:\n",
    "                best_labels = labels.copy()\n",
    "                best_centers = centers.copy()\n",
    "                best_inertias = inertias.copy()\n",
    "                best_inertia = inertia\n",
    "\n",
    "        self.labels_ = best_labels\n",
    "        self.centers_ = best_centers\n",
    "        self.inertias_ = best_inertias\n",
    "        return self"
   ]
  },
  {
   "cell_type": "markdown",
   "metadata": {},
   "source": [
    "## Openflight"
   ]
  },
  {
   "cell_type": "code",
   "execution_count": null,
   "metadata": {},
   "outputs": [],
   "source": [
    "import os.path"
   ]
  },
  {
   "cell_type": "code",
   "execution_count": null,
   "metadata": {},
   "outputs": [],
   "source": [
    "from urllib.request import urlretrieve as download"
   ]
  },
  {
   "cell_type": "code",
   "execution_count": null,
   "metadata": {},
   "outputs": [],
   "source": [
    "filename = \"openflights.graphml.gz\"\n",
    "if not os.path.isfile(filename):\n",
    "    download(\"https://perso.telecom-paristech.fr/bonald/graphs/\"+filename, filename)"
   ]
  },
  {
   "cell_type": "code",
   "execution_count": null,
   "metadata": {},
   "outputs": [],
   "source": [
    "graph = nx.read_graphml(filename, node_type = int)"
   ]
  },
  {
   "cell_type": "code",
   "execution_count": null,
   "metadata": {},
   "outputs": [],
   "source": [
    "print(nx.info(graph))"
   ]
  },
  {
   "cell_type": "code",
   "execution_count": null,
   "metadata": {},
   "outputs": [],
   "source": [
    "# Get airport names\n",
    "names = nx.get_node_attributes(graph, 'name')"
   ]
  },
  {
   "cell_type": "code",
   "execution_count": null,
   "metadata": {},
   "outputs": [],
   "source": [
    "# Get positions\n",
    "pos_x = nx.get_node_attributes(graph,'pos_x')\n",
    "pos_y = nx.get_node_attributes(graph,'pos_y')\n",
    "pos = {u: (pos_x[u], pos_y[u]) for u in graph.nodes()}"
   ]
  },
  {
   "cell_type": "code",
   "execution_count": null,
   "metadata": {},
   "outputs": [],
   "source": [
    "display_graph(graph,pos = pos,figsize = (20,10),node_size = 50)"
   ]
  },
  {
   "cell_type": "code",
   "execution_count": null,
   "metadata": {},
   "outputs": [],
   "source": [
    "# Spectral embedding\n",
    "adjacency = nx.to_scipy_sparse_matrix(graph)\n",
    "samples = spectral_embedding(adjacency,8)"
   ]
  },
  {
   "cell_type": "code",
   "execution_count": null,
   "metadata": {},
   "outputs": [],
   "source": [
    "# Hierarchical clustering\n",
    "D = sch.linkage(samples, method =  'ward')"
   ]
  },
  {
   "cell_type": "code",
   "execution_count": null,
   "metadata": {},
   "outputs": [],
   "source": [
    "# Main airports\n",
    "degree_threshold = 100\n",
    "nodes = [u for u in graph.nodes() if graph.degree(u) > degree_threshold]\n",
    "index = np.array([i for i,u in enumerate(graph.nodes()) if graph.degree(u) > degree_threshold])\n",
    "n = len(nodes)"
   ]
  },
  {
   "cell_type": "code",
   "execution_count": null,
   "metadata": {},
   "outputs": [],
   "source": [
    "# Hierarchical clustering of the main airports \n",
    "restricted_D = sch.linkage(samples[index], method =  'ward')"
   ]
  },
  {
   "cell_type": "code",
   "execution_count": null,
   "metadata": {},
   "outputs": [],
   "source": [
    "plt.figure(figsize = (10,n*0.2))\n",
    "sch.dendrogram(restricted_D,orientation = 'left',leaf_font_size = 8,labels = [names[nodes[i]] for i in range(n)])\n",
    "plt.show()"
   ]
  },
  {
   "cell_type": "code",
   "execution_count": null,
   "metadata": {},
   "outputs": [],
   "source": [
    "# Clustering\n",
    "labels = select_clustering(D, 10)"
   ]
  },
  {
   "cell_type": "code",
   "execution_count": null,
   "metadata": {},
   "outputs": [],
   "source": [
    "display_graph(graph,labels = labels, pos = pos,figsize = (20,10),node_size = 50)"
   ]
  },
  {
   "cell_type": "code",
   "execution_count": null,
   "metadata": {},
   "outputs": [],
   "source": []
  }
 ],
 "metadata": {
  "anaconda-cloud": {},
  "hide_input": false,
  "kernelspec": {
   "display_name": "Python 3",
   "language": "python",
   "name": "python3"
  },
  "language_info": {
   "codemirror_mode": {
    "name": "ipython",
    "version": 3
   },
   "file_extension": ".py",
   "mimetype": "text/x-python",
   "name": "python",
   "nbconvert_exporter": "python",
   "pygments_lexer": "ipython3",
   "version": "3.7.4"
  }
 },
 "nbformat": 4,
 "nbformat_minor": 1
}
