{
 "cells": [
  {
   "cell_type": "code",
   "execution_count": 42,
   "metadata": {},
   "outputs": [],
   "source": [
    "import numpy as np\n",
    "import matplotlib.pyplot as plt\n",
    "from matplotlib.colors import ListedColormap\n",
    "from math import fmod\n",
    "import seaborn as sns\n",
    "from sklearn import tree, datasets, model_selection\n",
    "from sklearn.model_selection import cross_val_score\n",
    "import graphviz\n",
    "import os\n",
    "from mpl_toolkits.mplot3d import Axes3D"
   ]
  },
  {
   "cell_type": "code",
   "execution_count": 2,
   "metadata": {},
   "outputs": [],
   "source": [
    "############################################################################\n",
    "#                Data Generation\n",
    "############################################################################\n",
    "\n",
    "def rand_gauss(n=100, mu=[1, 1], sigma=[0.1, 0.1]):\n",
    "    \"\"\" Sample n points from a Gaussian variable with center mu,\n",
    "    and std deviation sigma\n",
    "    \"\"\"\n",
    "    d = len(mu)\n",
    "    res = np.random.randn(n, d)\n",
    "    return np.array(res * sigma + mu)\n",
    "\n",
    "\n",
    "def rand_bi_gauss(n1=100, n2=100, mu1=[1, 1], mu2=[-1, -1], sigma1=[0.1, 0.1],\n",
    "                  sigma2=[0.1, 0.1]):\n",
    "    \"\"\" Sample n1 and n2 points from two Gaussian variables centered in mu1,\n",
    "    mu2, with std deviation sigma1, sigma2\n",
    "    \"\"\"\n",
    "    ex1 = rand_gauss(n1, mu1, sigma1)\n",
    "    ex2 = rand_gauss(n2, mu2, sigma2)\n",
    "    res = np.vstack([np.hstack([ex1, 1. * np.ones((n1, 1))]),\n",
    "                     np.hstack([ex2, 2. * np.ones((n2, 1))])])\n",
    "    ind = np.arange(res.shape[0])\n",
    "    np.random.shuffle(ind)\n",
    "    return np.array(res[ind, :])\n",
    "\n",
    "\n",
    "def rand_tri_gauss(n1=100, n2=100, n3=100, mu1=[1, 1],\n",
    "                   mu2=[-1, -1], mu3=[1, -1], sigma1=[0.1, 0.1],\n",
    "                   sigma2=[0.1, 0.1], sigma3=[0.1, 0.1]):\n",
    "    \"\"\" Sample n1, n2 and n3 points from three Gaussian variables centered in mu1,\n",
    "    mu2 and mu3 with std deviation sigma1, sigma2 and sigma3\n",
    "    \"\"\"\n",
    "    ex1 = rand_gauss(n1, mu1, sigma1)\n",
    "    ex2 = rand_gauss(n2, mu2, sigma2)\n",
    "    ex3 = rand_gauss(n3, mu3, sigma3)\n",
    "    res = np.vstack([np.hstack([ex1, 1. * np.ones((n1, 1))]),\n",
    "                     np.hstack([ex2, 2. * np.ones((n2, 1))]),\n",
    "                     np.hstack([ex3, 3. * np.ones((n3, 1))])])\n",
    "    ind = np.arange(res.shape[0])\n",
    "    np.random.shuffle(ind)\n",
    "    return np.array(res[ind, :])\n",
    "\n",
    "\n",
    "def rand_clown(n1=100, n2=100, sigma1=1, sigma2=2):\n",
    "    \"\"\" Sample a dataset clown  with\n",
    "    n1 points and noise std deviation sigma1 for the first class, and\n",
    "    n2 points and noise std deviation sigma2 for the second one\n",
    "    \"\"\"\n",
    "    x0 = np.random.randn(n1)\n",
    "    x1 = x0 * x0 + sigma1 * np.random.randn(n1)\n",
    "    x2 = np.vstack([sigma2 * np.random.randn(n2),\n",
    "                    sigma2 * np.random.randn(n2) + 2.])\n",
    "    res = np.hstack([np.vstack([[x0, x1], 1. * np.ones([1, n1])]),\n",
    "                     np.vstack([x2, 2. * np.ones([1, n2])])]).T\n",
    "    ind = np.arange(res.shape[0])\n",
    "    np.random.shuffle(ind)\n",
    "    return np.array(res[ind, :])\n",
    "\n",
    "\n",
    "def rand_checkers(n1=100, n2=100, n3=100, n4=100, sigma=0.1):\n",
    "    \"\"\" Sample n1 and n2 points from a noisy checker\"\"\"\n",
    "    nb1 = n1 // 8\n",
    "    nb2 = n2 // 8\n",
    "    nb3 = n3 // 8\n",
    "    nb4 = n4 // 8\n",
    "\n",
    "    xapp = np.reshape(np.zeros((nb1 + nb2 + nb3 + nb4) * 16),\n",
    "                      [(nb1 + nb2 + nb3 + nb4) * 8, 2])\n",
    "    yapp = np.ones((nb1 + nb2 + nb3 + nb4) * 8)\n",
    "    idx = 0\n",
    "    nb = 2 * nb1\n",
    "    for i in range(-2, 2):\n",
    "        for j in range(-2, 2):\n",
    "            yapp[idx:(idx + nb)] = [fmod(i - j + 100, 4)] * nb\n",
    "            xapp[idx:(idx + nb), 0] = np.random.rand(nb)\n",
    "            xapp[idx:(idx + nb), 0] += i + sigma * np.random.randn(nb)\n",
    "            xapp[idx:(idx + nb), 1] = np.random.rand(nb)\n",
    "            xapp[idx:(idx + nb), 1] += j + sigma * np.random.randn(nb)\n",
    "            idx += nb\n",
    "\n",
    "    ind = np.arange((nb1 + nb2 + nb3 + nb4) * 8)\n",
    "    np.random.shuffle(ind)\n",
    "    res = np.hstack([xapp, yapp[:, np.newaxis]])\n",
    "    return np.array(res[ind, :])\n"
   ]
  },
  {
   "cell_type": "code",
   "execution_count": 4,
   "metadata": {},
   "outputs": [],
   "source": [
    "\n",
    "\n",
    "############################################################################\n",
    "#            Displaying labeled data\n",
    "############################################################################\n",
    "symlist = ['o', 's', 'D', 'x', '+', '*', 'p', 'v', '-', '^']\n",
    "\n",
    "\n",
    "def plot_2d(data, y=None, w=None, alpha_choice=1):\n",
    "    \"\"\" Plot in 2D the dataset data, colors and symbols according to the\n",
    "    class given by the vector y (if given); the separating hyperplan w can\n",
    "    also be displayed if asked\"\"\"\n",
    "\n",
    "    k = np.unique(y).shape[0]\n",
    "    color_blind_list = sns.color_palette(\"colorblind\", k)\n",
    "    sns.set_palette(color_blind_list)\n",
    "    if y is None:\n",
    "        labs = [\"\"]\n",
    "        idxbyclass = [range(data.shape[0])]\n",
    "    else:\n",
    "        labs = np.unique(y)\n",
    "        idxbyclass = [np.where(y == labs[i])[0] for i in range(len(labs))]\n",
    "\n",
    "    for i in range(len(labs)):\n",
    "        plt.scatter(data[idxbyclass[i], 0], data[idxbyclass[i], 1],\n",
    "                    c=color_blind_list[i], s=80, marker=symlist[i])\n",
    "    plt.ylim([np.min(data[:, 1]), np.max(data[:, 1])])\n",
    "    plt.xlim([np.min(data[:, 0]), np.max(data[:, 0])])\n",
    "    mx = np.min(data[:, 0])\n",
    "    maxx = np.max(data[:, 0])\n",
    "    if w is not None:\n",
    "        plt.plot([mx, maxx], [mx * -w[1] / w[2] - w[0] / w[2],\n",
    "                              maxx * -w[1] / w[2] - w[0] / w[2]],\n",
    "                 \"g\", alpha=alpha_choice)\n",
    "\n",
    "\n",
    "def plot_2d_simple(data, y=None):\n",
    "    if y is None:\n",
    "        plt.scatter(data[:, 0], data[:, 1], s=50)\n",
    "    else:\n",
    "        nY = len(y)\n",
    "        y = y.astype(int)\n",
    "        Ycol = [collist[y[i] - 1 % len(collist)] for i in range(nY)]\n",
    "        plt.scatter(data[:, 0], data[:, 1], c=Ycol, s=40)"
   ]
  },
  {
   "cell_type": "markdown",
   "metadata": {},
   "source": [
    "### Question 1"
   ]
  },
  {
   "cell_type": "code",
   "execution_count": 6,
   "metadata": {},
   "outputs": [],
   "source": [
    "n1=25\n",
    "n2=25\n",
    "mu1=[0, 0]\n",
    "mu2=[0, 0]\n",
    "sigma1=[1, 1]\n",
    "sigma2=[1, 4]\n",
    "\n",
    "data1 = rand_bi_gauss(n1, n2, mu1, mu2, sigma1, sigma2)"
   ]
  },
  {
   "cell_type": "code",
   "execution_count": 10,
   "metadata": {},
   "outputs": [],
   "source": [
    "n1=25\n",
    "n2=25\n",
    "mu1=[2, 2]\n",
    "mu2=[2, 2]\n",
    "sigma1=[1, 1]\n",
    "sigma2=[1, 4]\n",
    "\n",
    "data2 = rand_bi_gauss(n1, n2, mu1, mu2, sigma1, sigma2)"
   ]
  },
  {
   "cell_type": "code",
   "execution_count": 13,
   "metadata": {},
   "outputs": [],
   "source": [
    "n1=25\n",
    "n2=25\n",
    "mu1=[2, 2]\n",
    "mu2=[2, 2]\n",
    "sigma1=[4, 4]\n",
    "sigma2=[4, 16]\n",
    "\n",
    "data3 = rand_bi_gauss(n1, n2, mu1, mu2, sigma1, sigma2)"
   ]
  },
  {
   "cell_type": "code",
   "execution_count": 15,
   "metadata": {},
   "outputs": [
    {
     "name": "stderr",
     "output_type": "stream",
     "text": [
      "'c' argument looks like a single numeric RGB or RGBA sequence, which should be avoided as value-mapping will have precedence in case its length matches with 'x' & 'y'.  Please use a 2-D array with a single row if you really want to specify the same RGB or RGBA value for all points.\n",
      "'c' argument looks like a single numeric RGB or RGBA sequence, which should be avoided as value-mapping will have precedence in case its length matches with 'x' & 'y'.  Please use a 2-D array with a single row if you really want to specify the same RGB or RGBA value for all points.\n",
      "'c' argument looks like a single numeric RGB or RGBA sequence, which should be avoided as value-mapping will have precedence in case its length matches with 'x' & 'y'.  Please use a 2-D array with a single row if you really want to specify the same RGB or RGBA value for all points.\n",
      "'c' argument looks like a single numeric RGB or RGBA sequence, which should be avoided as value-mapping will have precedence in case its length matches with 'x' & 'y'.  Please use a 2-D array with a single row if you really want to specify the same RGB or RGBA value for all points.\n",
      "'c' argument looks like a single numeric RGB or RGBA sequence, which should be avoided as value-mapping will have precedence in case its length matches with 'x' & 'y'.  Please use a 2-D array with a single row if you really want to specify the same RGB or RGBA value for all points.\n",
      "'c' argument looks like a single numeric RGB or RGBA sequence, which should be avoided as value-mapping will have precedence in case its length matches with 'x' & 'y'.  Please use a 2-D array with a single row if you really want to specify the same RGB or RGBA value for all points.\n"
     ]
    },
    {
     "data": {
      "image/png": "[encoded data removed]",
      "text/plain": [
       "<Figure size 1080x360 with 3 Axes>"
      ]
     },
     "metadata": {
      "needs_background": "light"
     },
     "output_type": "display_data"
    }
   ],
   "source": [
    "plt.close(\"all\")\n",
    "plt.ion()\n",
    "plt.figure(1, figsize=(15, 5))\n",
    "plt.subplot(131)\n",
    "plt.title('First data set')\n",
    "plot_2d(data1[:, :2], data1[:, 2], w=None)\n",
    "plt.subplot(132)\n",
    "plt.title('Second data set')\n",
    "plot_2d(data2[:, :2], data2[:, 2], w=None)\n",
    "plt.subplot(133)\n",
    "plt.title('Third data set')\n",
    "plot_2d(data3[:, :2], data3[:, 2], w=None)"
   ]
  },
  {
   "cell_type": "markdown",
   "metadata": {},
   "source": [
    "### Question 2 (Mahalanobis)"
   ]
  },
  {
   "cell_type": "code",
   "execution_count": 36,
   "metadata": {},
   "outputs": [],
   "source": [
    "def depthMah(data):\n",
    "    mean_data = data.mean()\n",
    "    V = np.cov(data.T)\n",
    "    VI = np.linalg.inv(V)\n",
    "    data_mahalanobis = np.diag(np.sqrt(np.dot(np.dot((data - mean_data),VI),(data- mean_data).T)))\n",
    "    depth_mahalanobis = 1 / (1 + data_mahalanobis)\n",
    "    return depth_mahalanobis"
   ]
  },
  {
   "cell_type": "code",
   "execution_count": 37,
   "metadata": {},
   "outputs": [
    {
     "name": "stderr",
     "output_type": "stream",
     "text": [
      "/home/parfait/anaconda3/lib/python3.7/site-packages/ipykernel_launcher.py:5: RuntimeWarning: invalid value encountered in sqrt\n",
      "  \"\"\"\n"
     ]
    },
    {
     "data": {
      "text/plain": [
       "array([0.32586438, 0.23340123, 0.18006454, 0.25180856, 0.26112514,\n",
       "       0.18842334, 0.26123243, 0.20953661, 0.44098586, 0.24416663,\n",
       "       0.45522683, 0.2010275 , 0.25221894, 0.53965838, 0.49413791,\n",
       "       0.2341487 , 0.24638368, 0.51676728, 0.43869657, 0.39428699,\n",
       "       0.49748225, 0.26995479, 0.21656131, 0.33722941, 0.34173396,\n",
       "       0.23886207, 0.22849516, 0.25355256, 0.23954902, 0.25229228,\n",
       "       0.41773011, 0.33539403, 0.45521675, 0.37262317, 0.25888266,\n",
       "       0.53701093, 0.53817729, 0.49012712, 0.46673155, 0.25788977,\n",
       "       0.55186578, 0.24318197, 0.22258775, 0.53126193, 0.25992519,\n",
       "       0.39670331, 0.41428838, 0.53437196, 0.21569328, 0.2392436 ])"
      ]
     },
     "execution_count": 37,
     "metadata": {},
     "output_type": "execute_result"
    }
   ],
   "source": [
    "data1_depthmahalanobis = depthMah(data1)\n",
    "data1_depthmahalanobis"
   ]
  },
  {
   "cell_type": "code",
   "execution_count": 38,
   "metadata": {},
   "outputs": [
    {
     "name": "stderr",
     "output_type": "stream",
     "text": [
      "/home/parfait/anaconda3/lib/python3.7/site-packages/ipykernel_launcher.py:5: RuntimeWarning: invalid value encountered in sqrt\n",
      "  \"\"\"\n"
     ]
    },
    {
     "data": {
      "text/plain": [
       "array([0.30688786, 0.30982482, 0.26099864, 0.43836172, 0.48295738,\n",
       "       0.31205252, 0.50448293, 0.30348107, 0.3118633 , 0.25821058,\n",
       "       0.4009188 , 0.39197933, 0.30554673, 0.46693033, 0.35903297,\n",
       "       0.67180996, 0.27923876, 0.30068742, 0.44288719, 0.2839956 ,\n",
       "       0.30613984, 0.31192001, 0.3113196 , 0.25645019, 0.30402161,\n",
       "       0.4799926 , 0.30945647, 0.26663455, 0.33972778, 0.30859094,\n",
       "       0.56816915, 0.29949173, 0.29985102, 0.25069478, 0.29572427,\n",
       "       0.38702125, 0.29257404, 0.35274678, 0.3040971 , 0.32637932,\n",
       "       0.5497974 , 0.29960131, 0.26238078, 0.33910177, 0.30885202,\n",
       "       0.29626799, 0.66066687, 0.30495468, 0.28428767, 0.46172489])"
      ]
     },
     "execution_count": 38,
     "metadata": {},
     "output_type": "execute_result"
    }
   ],
   "source": [
    "data2_depthmahalanobis = depthMah(data2)\n",
    "data2_depthmahalanobis"
   ]
  },
  {
   "cell_type": "code",
   "execution_count": 39,
   "metadata": {},
   "outputs": [
    {
     "name": "stderr",
     "output_type": "stream",
     "text": [
      "/home/parfait/anaconda3/lib/python3.7/site-packages/ipykernel_launcher.py:5: RuntimeWarning: invalid value encountered in sqrt\n",
      "  \"\"\"\n"
     ]
    },
    {
     "data": {
      "text/plain": [
       "array([0.31695283, 0.29125005, 0.31976466, 0.61629877, 0.538351  ,\n",
       "       0.33915131, 0.33652322, 0.3384215 , 0.24139582, 0.46417437,\n",
       "       0.34344802, 0.31536092, 0.47899991, 0.33147546, 0.55996795,\n",
       "       0.32154479, 0.35620812, 0.34378676, 0.31104241, 0.34177648,\n",
       "       0.4321712 , 0.24672054, 0.36786352, 0.67233174, 0.3251486 ,\n",
       "       0.34200189, 0.27078354, 0.53319002, 0.34217094, 0.29069831,\n",
       "       0.51546109, 0.71097295, 0.29784203, 0.3288622 , 0.33965295,\n",
       "       0.33744198, 0.32225902, 0.34149024, 0.33138471, 0.52002606,\n",
       "       0.33965364, 0.46036957, 0.33096378, 0.25647719, 0.34033457,\n",
       "       0.42603792, 0.30091382, 0.2655716 , 0.33796942, 0.30995281])"
      ]
     },
     "execution_count": 39,
     "metadata": {},
     "output_type": "execute_result"
    }
   ],
   "source": [
    "data3_depthmahalanobis = depthMah(data3)\n",
    "data3_depthmahalanobis"
   ]
  },
  {
   "cell_type": "code",
   "execution_count": 40,
   "metadata": {},
   "outputs": [
    {
     "data": {
      "text/plain": [
       "(50,)"
      ]
     },
     "execution_count": 40,
     "metadata": {},
     "output_type": "execute_result"
    }
   ],
   "source": [
    "data3_depthmahalanobis.shape"
   ]
  },
  {
   "cell_type": "code",
   "execution_count": 46,
   "metadata": {},
   "outputs": [
    {
     "data": {
      "text/plain": [
       "(50, 1)"
      ]
     },
     "execution_count": 46,
     "metadata": {},
     "output_type": "execute_result"
    }
   ],
   "source": [
    "test = data1_depthmahalanobis.reshape((-1,1))\n",
    "test.shape"
   ]
  },
  {
   "cell_type": "code",
   "execution_count": 49,
   "metadata": {},
   "outputs": [
    {
     "ename": "ValueError",
     "evalue": "x and y must be the same size",
     "output_type": "error",
     "traceback": [
      "\u001b[0;31m---------------------------------------------------------------------------\u001b[0m",
      "\u001b[0;31mValueError\u001b[0m                                Traceback (most recent call last)",
      "\u001b[0;32m<ipython-input-49-4c1a5b3904e6>\u001b[0m in \u001b[0;36m<module>\u001b[0;34m\u001b[0m\n\u001b[0;32m----> 1\u001b[0;31m \u001b[0mplt\u001b[0m\u001b[0;34m.\u001b[0m\u001b[0mscatter\u001b[0m\u001b[0;34m(\u001b[0m\u001b[0mdata1\u001b[0m\u001b[0;34m[\u001b[0m\u001b[0;34m:\u001b[0m\u001b[0;34m,\u001b[0m \u001b[0;34m:\u001b[0m\u001b[0;36m2\u001b[0m\u001b[0;34m]\u001b[0m\u001b[0;34m,\u001b[0m \u001b[0mdata1\u001b[0m\u001b[0;34m[\u001b[0m\u001b[0;34m:\u001b[0m\u001b[0;34m,\u001b[0m \u001b[0;36m2\u001b[0m\u001b[0;34m]\u001b[0m\u001b[0;34m)\u001b[0m\u001b[0;34m\u001b[0m\u001b[0;34m\u001b[0m\u001b[0m\n\u001b[0m\u001b[1;32m      2\u001b[0m \u001b[0mplt\u001b[0m\u001b[0;34m.\u001b[0m\u001b[0mshow\u001b[0m\u001b[0;34m(\u001b[0m\u001b[0;34m)\u001b[0m\u001b[0;34m\u001b[0m\u001b[0;34m\u001b[0m\u001b[0m\n",
      "\u001b[0;32m~/anaconda3/lib/python3.7/site-packages/matplotlib/pyplot.py\u001b[0m in \u001b[0;36mscatter\u001b[0;34m(x, y, s, c, marker, cmap, norm, vmin, vmax, alpha, linewidths, verts, edgecolors, plotnonfinite, data, **kwargs)\u001b[0m\n\u001b[1;32m   2839\u001b[0m         \u001b[0mverts\u001b[0m\u001b[0;34m=\u001b[0m\u001b[0mverts\u001b[0m\u001b[0;34m,\u001b[0m \u001b[0medgecolors\u001b[0m\u001b[0;34m=\u001b[0m\u001b[0medgecolors\u001b[0m\u001b[0;34m,\u001b[0m\u001b[0;34m\u001b[0m\u001b[0;34m\u001b[0m\u001b[0m\n\u001b[1;32m   2840\u001b[0m         plotnonfinite=plotnonfinite, **({\"data\": data} if data is not\n\u001b[0;32m-> 2841\u001b[0;31m         None else {}), **kwargs)\n\u001b[0m\u001b[1;32m   2842\u001b[0m     \u001b[0msci\u001b[0m\u001b[0;34m(\u001b[0m\u001b[0m__ret\u001b[0m\u001b[0;34m)\u001b[0m\u001b[0;34m\u001b[0m\u001b[0;34m\u001b[0m\u001b[0m\n\u001b[1;32m   2843\u001b[0m     \u001b[0;32mreturn\u001b[0m \u001b[0m__ret\u001b[0m\u001b[0;34m\u001b[0m\u001b[0;34m\u001b[0m\u001b[0m\n",
      "\u001b[0;32m~/anaconda3/lib/python3.7/site-packages/matplotlib/__init__.py\u001b[0m in \u001b[0;36minner\u001b[0;34m(ax, data, *args, **kwargs)\u001b[0m\n\u001b[1;32m   1587\u001b[0m     \u001b[0;32mdef\u001b[0m \u001b[0minner\u001b[0m\u001b[0;34m(\u001b[0m\u001b[0max\u001b[0m\u001b[0;34m,\u001b[0m \u001b[0;34m*\u001b[0m\u001b[0margs\u001b[0m\u001b[0;34m,\u001b[0m \u001b[0mdata\u001b[0m\u001b[0;34m=\u001b[0m\u001b[0;32mNone\u001b[0m\u001b[0;34m,\u001b[0m \u001b[0;34m**\u001b[0m\u001b[0mkwargs\u001b[0m\u001b[0;34m)\u001b[0m\u001b[0;34m:\u001b[0m\u001b[0;34m\u001b[0m\u001b[0;34m\u001b[0m\u001b[0m\n\u001b[1;32m   1588\u001b[0m         \u001b[0;32mif\u001b[0m \u001b[0mdata\u001b[0m \u001b[0;32mis\u001b[0m \u001b[0;32mNone\u001b[0m\u001b[0;34m:\u001b[0m\u001b[0;34m\u001b[0m\u001b[0;34m\u001b[0m\u001b[0m\n\u001b[0;32m-> 1589\u001b[0;31m             \u001b[0;32mreturn\u001b[0m \u001b[0mfunc\u001b[0m\u001b[0;34m(\u001b[0m\u001b[0max\u001b[0m\u001b[0;34m,\u001b[0m \u001b[0;34m*\u001b[0m\u001b[0mmap\u001b[0m\u001b[0;34m(\u001b[0m\u001b[0msanitize_sequence\u001b[0m\u001b[0;34m,\u001b[0m \u001b[0margs\u001b[0m\u001b[0;34m)\u001b[0m\u001b[0;34m,\u001b[0m \u001b[0;34m**\u001b[0m\u001b[0mkwargs\u001b[0m\u001b[0;34m)\u001b[0m\u001b[0;34m\u001b[0m\u001b[0;34m\u001b[0m\u001b[0m\n\u001b[0m\u001b[1;32m   1590\u001b[0m \u001b[0;34m\u001b[0m\u001b[0m\n\u001b[1;32m   1591\u001b[0m         \u001b[0mbound\u001b[0m \u001b[0;34m=\u001b[0m \u001b[0mnew_sig\u001b[0m\u001b[0;34m.\u001b[0m\u001b[0mbind\u001b[0m\u001b[0;34m(\u001b[0m\u001b[0max\u001b[0m\u001b[0;34m,\u001b[0m \u001b[0;34m*\u001b[0m\u001b[0margs\u001b[0m\u001b[0;34m,\u001b[0m \u001b[0;34m**\u001b[0m\u001b[0mkwargs\u001b[0m\u001b[0;34m)\u001b[0m\u001b[0;34m\u001b[0m\u001b[0;34m\u001b[0m\u001b[0m\n",
      "\u001b[0;32m~/anaconda3/lib/python3.7/site-packages/matplotlib/axes/_axes.py\u001b[0m in \u001b[0;36mscatter\u001b[0;34m(self, x, y, s, c, marker, cmap, norm, vmin, vmax, alpha, linewidths, verts, edgecolors, plotnonfinite, **kwargs)\u001b[0m\n\u001b[1;32m   4434\u001b[0m         \u001b[0my\u001b[0m \u001b[0;34m=\u001b[0m \u001b[0mnp\u001b[0m\u001b[0;34m.\u001b[0m\u001b[0mma\u001b[0m\u001b[0;34m.\u001b[0m\u001b[0mravel\u001b[0m\u001b[0;34m(\u001b[0m\u001b[0my\u001b[0m\u001b[0;34m)\u001b[0m\u001b[0;34m\u001b[0m\u001b[0;34m\u001b[0m\u001b[0m\n\u001b[1;32m   4435\u001b[0m         \u001b[0;32mif\u001b[0m \u001b[0mx\u001b[0m\u001b[0;34m.\u001b[0m\u001b[0msize\u001b[0m \u001b[0;34m!=\u001b[0m \u001b[0my\u001b[0m\u001b[0;34m.\u001b[0m\u001b[0msize\u001b[0m\u001b[0;34m:\u001b[0m\u001b[0;34m\u001b[0m\u001b[0;34m\u001b[0m\u001b[0m\n\u001b[0;32m-> 4436\u001b[0;31m             \u001b[0;32mraise\u001b[0m \u001b[0mValueError\u001b[0m\u001b[0;34m(\u001b[0m\u001b[0;34m\"x and y must be the same size\"\u001b[0m\u001b[0;34m)\u001b[0m\u001b[0;34m\u001b[0m\u001b[0;34m\u001b[0m\u001b[0m\n\u001b[0m\u001b[1;32m   4437\u001b[0m \u001b[0;34m\u001b[0m\u001b[0m\n\u001b[1;32m   4438\u001b[0m         \u001b[0;32mif\u001b[0m \u001b[0ms\u001b[0m \u001b[0;32mis\u001b[0m \u001b[0;32mNone\u001b[0m\u001b[0;34m:\u001b[0m\u001b[0;34m\u001b[0m\u001b[0;34m\u001b[0m\u001b[0m\n",
      "\u001b[0;31mValueError\u001b[0m: x and y must be the same size"
     ]
    },
    {
     "data": {
      "image/png": "[encoded data removed]",
      "text/plain": [
       "<Figure size 432x288 with 1 Axes>"
      ]
     },
     "metadata": {
      "needs_background": "light"
     },
     "output_type": "display_data"
    }
   ],
   "source": [
    "plt.scatter(data1[:, :2], data1[:, 2])\n",
    "plt.show()"
   ]
  },
  {
   "cell_type": "markdown",
   "metadata": {},
   "source": [
    "### Question 3"
   ]
  },
  {
   "cell_type": "code",
   "execution_count": null,
   "metadata": {},
   "outputs": [],
   "source": []
  }
 ],
 "metadata": {
  "kernelspec": {
   "display_name": "Python 3",
   "language": "python",
   "name": "python3"
  },
  "language_info": {
   "codemirror_mode": {
    "name": "ipython",
    "version": 3
   },
   "file_extension": ".py",
   "mimetype": "text/x-python",
   "name": "python",
   "nbconvert_exporter": "python",
   "pygments_lexer": "ipython3",
   "version": "3.7.3"
  }
 },
 "nbformat": 4,
 "nbformat_minor": 2
}
