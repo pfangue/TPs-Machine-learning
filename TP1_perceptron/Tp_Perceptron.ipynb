{
 "cells": [
  {
   "cell_type": "markdown",
   "metadata": {},
   "source": [
    "# TP PERCEPTRON"
   ]
  },
  {
   "cell_type": "markdown",
   "metadata": {},
   "source": [
    "### Package"
   ]
  },
  {
   "cell_type": "code",
   "execution_count": 1,
   "metadata": {},
   "outputs": [],
   "source": [
    "import numpy as np\n",
    "import matplotlib.pyplot as plt\n",
    "from mpl_toolkits.mplot3d import Axes3D\n",
    "from matplotlib.colors import ListedColormap\n",
    "from matplotlib import cm\n",
    "import seaborn as sns\n",
    "from matplotlib import rc"
   ]
  },
  {
   "cell_type": "markdown",
   "metadata": {},
   "source": [
    "### Display labeled data"
   ]
  },
  {
   "cell_type": "code",
   "execution_count": 2,
   "metadata": {},
   "outputs": [
    {
     "data": {
      "text/plain": [
       "{'axes.facecolor': 'white',\n",
       " 'axes.edgecolor': '.15',\n",
       " 'axes.grid': False,\n",
       " 'axes.axisbelow': True,\n",
       " 'axes.labelcolor': '.15',\n",
       " 'figure.facecolor': 'white',\n",
       " 'grid.color': '.8',\n",
       " 'grid.linestyle': '-',\n",
       " 'text.color': '.15',\n",
       " 'xtick.color': '.15',\n",
       " 'ytick.color': '.15',\n",
       " 'xtick.direction': 'out',\n",
       " 'ytick.direction': 'out',\n",
       " 'lines.solid_capstyle': 'round',\n",
       " 'patch.edgecolor': 'w',\n",
       " 'image.cmap': 'rocket',\n",
       " 'font.family': ['sans-serif'],\n",
       " 'font.sans-serif': ['Arial',\n",
       "  'DejaVu Sans',\n",
       "  'Liberation Sans',\n",
       "  'Bitstream Vera Sans',\n",
       "  'sans-serif'],\n",
       " 'patch.force_edgecolor': True,\n",
       " 'xtick.bottom': False,\n",
       " 'xtick.top': False,\n",
       " 'ytick.left': False,\n",
       " 'ytick.right': False,\n",
       " 'axes.spines.left': True,\n",
       " 'axes.spines.bottom': True,\n",
       " 'axes.spines.right': True,\n",
       " 'axes.spines.top': True}"
      ]
     },
     "execution_count": 2,
     "metadata": {},
     "output_type": "execute_result"
    }
   ],
   "source": [
    "symlist = ['o', 'p', '*', 's', '+', 'x', 'D', 'v', '-', '^']\n",
    "\n",
    "rc('font', **{'family': 'sans-serif', 'sans-serif': ['Computer Modern Roman']})\n",
    "params = {'axes.labelsize': 12,\n",
    "          'font.size': 16,\n",
    "          'legend.fontsize': 16,\n",
    "          'text.usetex': False,\n",
    "          'figure.figsize': (8, 6)}\n",
    "plt.rcParams.update(params)\n",
    "\n",
    "sns.set_context(\"poster\")\n",
    "sns.set_palette(\"colorblind\")\n",
    "sns.set_style(\"white\")\n",
    "sns.axes_style()"
   ]
  },
  {
   "cell_type": "markdown",
   "metadata": {},
   "source": [
    "###   Data Generation    (you can skip the understanding)"
   ]
  },
  {
   "cell_type": "code",
   "execution_count": 3,
   "metadata": {},
   "outputs": [],
   "source": [
    "def rand_gauss(n=100, mu=[1, 1], sigmas=[0.1, 0.1]):\n",
    "    \"\"\"Sample  points from a Gaussian variable.\n",
    "\n",
    "    Parameters\n",
    "    ----------\n",
    "    n : number of samples\n",
    "\n",
    "    mu : centered\n",
    "\n",
    "    sigma : standard deviation\n",
    "    \"\"\"\n",
    "    d = len(mu)\n",
    "    res = np.random.randn(n, d) #Return a sample (or samples) from the “standard normal” distribution.\n",
    "    return np.array(mu + res * sigmas)\n",
    "\n",
    "\n",
    "def rand_bi_gauss(n1=100, n2=100, mu1=[1, 1], mu2=[-1, -1], sigmas1=[0.1, 0.1],\n",
    "                  sigmas2=[0.1, 0.1]):\n",
    "    \"\"\"Sample points from two Gaussian distributions.\n",
    "\n",
    "    Parameters\n",
    "    ----------\n",
    "    n1 : number of sample from first distribution\n",
    "\n",
    "    n2 : number of sample from second distribution\n",
    "\n",
    "    mu1 : center for first distribution\n",
    "\n",
    "    mu2 : center for second distribution\n",
    "\n",
    "    sigma1: std deviation for first distribution\n",
    "\n",
    "    sigma2: std deviation for second distribution\n",
    "    \"\"\"\n",
    "    ex1 = rand_gauss(n1, mu1, sigmas1)\n",
    "    ex2 = rand_gauss(n2, mu2, sigmas2)\n",
    "    y = np.hstack([np.ones(n1), -1 * np.ones(n2)]) #concatenation of arrays horizontaly\n",
    "    X = np.vstack([ex1, ex2]) #concatenation of arrays verticaly\n",
    "    ind = np.random.permutation(n1 + n2) # mélange de 300 valeurs comprises entre 0 et 299\n",
    "    return X[ind, :], y[ind]\n",
    "\n",
    "\n",
    "def rand_clown(n1=100, n2=100, sigma1=1, sigma2=2):\n",
    "    \"\"\"Create samples and labels form a **clown** dataset.\n",
    "\n",
    "    Parameters\n",
    "    ----------\n",
    "    n1 : number of sample from first blob\n",
    "\n",
    "    n2 : number of sample from second blob\n",
    "\n",
    "    sigma1 :  noise std deviation for the first blob\n",
    "\n",
    "    sigma2 :  noise std deviation for the second blob\n",
    "    \"\"\"\n",
    "    x0 = np.random.randn(n1, 1)\n",
    "    x1 = x0 * x0 + sigma1 * np.random.randn(n1, 1)\n",
    "    x2 = np.hstack([sigma2 * np.random.randn(n2, 1),\n",
    "                    sigma2 * np.random.randn(n2, 1) + 2.])\n",
    "    X = np.vstack([np.hstack([x0, x1]), x2])\n",
    "    y = np.hstack([np.ones(n1), -1 * np.ones(n2)])\n",
    "    ind = np.random.permutation(n1 + n2)\n",
    "    return X[ind, :], y[ind]\n",
    "\n",
    "\n",
    "def rand_checkers(n1=100, n2=100, sigma=0.1):\n",
    "    \"\"\"Create samples and labels from a noisy checker.\n",
    "\n",
    "    Parameters\n",
    "    ----------\n",
    "    n1 : number of samples for the first class\n",
    "\n",
    "    n2 : number of samples for the second class\n",
    "    \"\"\"\n",
    "    nbp = int(np.floor(n1 / 8))\n",
    "    nbn = int(np.floor(n2 / 8))\n",
    "    xapp = np.reshape(np.random.rand((nbp + nbn) * 16), [(nbp + nbn) * 8, 2])\n",
    "    yapp = np.ones((nbp + nbn) * 8)\n",
    "    idx = 0\n",
    "    for i in range(-2, 2):\n",
    "        for j in range(-2, 2):\n",
    "            if (((i + j) % 2) == 0):\n",
    "                nb = nbp\n",
    "            else:\n",
    "                nb = nbn\n",
    "                yapp[idx:(idx + nb)] = [-1] * nb\n",
    "\n",
    "            xapp[idx:(idx + nb), 0] = np.random.rand(nb)\n",
    "            xapp[idx:(idx + nb), 0] += i + sigma * np.random.randn(nb)\n",
    "            xapp[idx:(idx + nb), 1] = np.random.rand(nb)\n",
    "            xapp[idx:(idx + nb), 1] += j + sigma * np.random.randn(nb)\n",
    "            idx += nb\n",
    "\n",
    "    ind = np.random.permutation((nbp + nbn) * 8)\n",
    "    res = np.hstack([xapp, yapp[:, np.newaxis]])\n",
    "    return np.array(res[ind, :2]), np.array(res[ind, 2])\n"
   ]
  },
  {
   "cell_type": "markdown",
   "metadata": {},
   "source": [
    "###           Displaying labeled data"
   ]
  },
  {
   "cell_type": "code",
   "execution_count": 4,
   "metadata": {},
   "outputs": [],
   "source": [
    "symlist = ['o', 'o', '+', 'x', 'D', '*', 'p', 'v', '-', '^']\n",
    "collist = ['blue', 'red', 'purple', 'orange', 'salmon', 'black', 'grey',\n",
    "           'fuchsia']\n",
    "\n",
    "\n",
    "def plot_2d(X, y, w=None, step=50, alpha_choice=1):\n",
    "    \"\"\"2D dataset data ploting according to labels.\n",
    "\n",
    "    Parameters\n",
    "    ----------\n",
    "\n",
    "    X : data features\n",
    "\n",
    "    y : label vector\n",
    "\n",
    "    w :(optional) the separating hyperplan w\n",
    "\n",
    "    alpha_choice : control alpha display parameter\n",
    "    \"\"\"\n",
    "    min_tot0 = np.min(X[:, 0])\n",
    "    min_tot1 = np.min(X[:, 1])\n",
    "\n",
    "    max_tot0 = np.max(X[:, 0])\n",
    "    max_tot1 = np.max(X[:, 1])\n",
    "    delta0 = (max_tot0 - min_tot0)\n",
    "    delta1 = (max_tot1 - min_tot1)\n",
    "    labels = np.unique(y)\n",
    "    k = np.unique(y).shape[0]\n",
    "    color_blind_list = sns.color_palette(\"colorblind\", k)\n",
    "    sns.set_palette(color_blind_list)\n",
    "    for i, label in enumerate(y):\n",
    "        label_num = np.where(labels == label)[0][0]\n",
    "        plt.scatter(X[i, 0], X[i, 1],\n",
    "                    c=np.reshape(color_blind_list[label_num], (1, -1)),\n",
    "                    s=80, marker=symlist[label_num])\n",
    "    plt.xlim([min_tot0 - delta0 / 10., max_tot0 + delta0 / 10.])\n",
    "    plt.ylim([min_tot1 - delta1 / 10., max_tot1 + delta1 / 10.])\n",
    "    if w is not None:\n",
    "        plt.plot([min_tot0, max_tot0],\n",
    "                 [min_tot0 * -w[1] / w[2] - w[0] / w[2],\n",
    "                  max_tot0 * -w[1] / w[2] - w[0] / w[2]],\n",
    "                 \"k\", alpha=alpha_choice)"
   ]
  },
  {
   "cell_type": "markdown",
   "metadata": {},
   "source": [
    "###           Loss functions and their gradient"
   ]
  },
  {
   "cell_type": "code",
   "execution_count": 5,
   "metadata": {},
   "outputs": [],
   "source": [
    "def predict(x, w):\n",
    "    \"\"\"Prediction from a normal vector.\"\"\"\n",
    "    return np.dot(x, w[1:]) + w[0]\n",
    "\n",
    "\n",
    "def predict_class(x, w):\n",
    "    \"\"\"Predict a class from at point x thanks to a normal vector.\"\"\"\n",
    "    return np.sign(predict(x, w))\n",
    "\n",
    "\n",
    "def zero_one_loss(x, y, w):\n",
    "    \"\"\"0-1 loss function.\"\"\"\n",
    "    return abs(y - np.sign(predict(x, w))) / 2.\n",
    "\n",
    "\n",
    "def hinge_loss(x, y, w):\n",
    "    \"\"\"Hinge loss function.\"\"\"\n",
    "    return np.maximum(0., 1. - y * predict(x, w))\n",
    "\n",
    "\n",
    "def mse_loss(x, y, w):\n",
    "    \"\"\"Mean square error loss.\"\"\"\n",
    "    return (y - predict(x, w)) ** 2\n",
    "\n",
    "\n",
    "def norm2(x, y, w):\n",
    "    \"\"\"Squared norm of a vector.\"\"\"\n",
    "    return np.dot(w, w)\n",
    "\n",
    "\n",
    "def gr_hinge_loss(x, y, w):\n",
    "    \"\"\"Sub-gradient of the loss function hingeloss.\"\"\"\n",
    "    return np.dot(-y * (hinge_loss(x, y, w) > 0.),\n",
    "                  np.hstack((np.ones((x.shape[0], 1)), x)))\n",
    "\n",
    "\n",
    "def gr_mse_loss(x, y, w):\n",
    "    \"\"\"Gradient of the least squares lost function.\"\"\"\n",
    "    return -2. * np.dot(y - predict(x, w),\n",
    "                        np.hstack((np.ones((x.shape[0], 1)), x)))\n",
    "\n",
    "\n",
    "def gr_norm2(x, y, w):\n",
    "    \"\"\"Gradient of the squared norm.\"\"\"\n",
    "    return 2. * w\n",
    "\n",
    "\n",
    "def pen_loss_aux(x, y, w, l):\n",
    "    \"\"\"Loss function penalized by hinge loss.\"\"\"\n",
    "    return hinge_loss(x, y, w) + l * norm2(x, y, w)\n",
    "\n",
    "\n",
    "def gr_pen_loss_aux(x, y, w, l):\n",
    "    \"\"\"Gradient of hinge loss penalized loss function.\"\"\"\n",
    "    return gr_hinge_loss(x, y, w) + l * gr_norm2(x, y, w, )\n",
    "\n",
    "\n",
    "def pen_loss(l):\n",
    "    \"\"\"Penalized loss function.\"\"\"\n",
    "    return lambda x, y, w: pen_loss_aux(x, y, w, l)\n",
    "\n",
    "\n",
    "def gr_pen_loss(l):\n",
    "    \"\"\"Gradient penalized loss function.\"\"\"\n",
    "    return lambda x, y, w: gr_pen_loss_aux(x, y, w, l)"
   ]
  },
  {
   "cell_type": "markdown",
   "metadata": {},
   "source": [
    "###        Displaying tools for the Frontiere"
   ]
  },
  {
   "cell_type": "code",
   "execution_count": 6,
   "metadata": {},
   "outputs": [],
   "source": [
    "def frontiere(f, X, step=50, cmap_choice=cm.coolwarm):\n",
    "    \"\"\"Frontiere plotting for a decision function f.\"\"\"\n",
    "    min_tot0 = np.min(X[:, 0])\n",
    "    max_tot0 = np.max(X[:, 0])\n",
    "    min_tot1 = np.min(X[:, 1])\n",
    "    max_tot1 = np.max(X[:, 1])\n",
    "    delta0 = (max_tot0 - min_tot0)\n",
    "    delta1 = (max_tot1 - min_tot1)\n",
    "    xx, yy = np.meshgrid(np.arange(min_tot0, max_tot0, delta0 / step),\n",
    "                         np.arange(min_tot1, max_tot1, delta1 / step))\n",
    "    z = np.array([f(vec) for vec in np.c_[xx.ravel(), yy.ravel()]])\n",
    "    z = z.reshape(xx.shape)\n",
    "    plt.imshow(z, origin='lower', interpolation=\"nearest\", cmap=cmap_choice,\n",
    "               extent=[min_tot0, max_tot0, min_tot1, max_tot1])\n",
    "    plt.colorbar()\n",
    "\n",
    "\n",
    "def frontiere_new(clf, X, y, w=None, step=50, alpha_choice=1, colorbar=True,\n",
    "                  samples=True, n_labels=3, n_neighbors=3):\n",
    "    \"\"\"Trace la frontiere pour la fonction de decision de clf.\"\"\"\n",
    "    min_tot0 = np.min(X[:, 0])\n",
    "    min_tot1 = np.min(X[:, 1])\n",
    "\n",
    "    max_tot0 = np.max(X[:, 0])\n",
    "    max_tot1 = np.max(X[:, 1])\n",
    "    delta0 = (max_tot0 - min_tot0)\n",
    "    delta1 = (max_tot1 - min_tot1)\n",
    "    xx, yy = np.meshgrid(np.arange(min_tot0, max_tot0, delta0 / step),\n",
    "                         np.arange(min_tot1, max_tot1, delta1 / step))\n",
    "    XX = np.c_[xx.ravel(), yy.ravel()]\n",
    "    print(XX.shape)\n",
    "    z = clf.predict(XX)\n",
    "    z = z.reshape(xx.shape)\n",
    "    labels = np.unique(z)\n",
    "    color_blind_list = sns.color_palette(\"colorblind\", labels.shape[0])\n",
    "    my_cmap = ListedColormap(color_blind_list)\n",
    "    plt.imshow(z, origin='lower', interpolation=\"mitchell\", alpha=0.80,\n",
    "               cmap=my_cmap, extent=[min_tot0, max_tot0, min_tot1, max_tot1])\n",
    "    if colorbar is True:\n",
    "        ax = plt.gca()\n",
    "        cbar = plt.colorbar(ticks=labels)\n",
    "        cbar.ax.set_yticklabels(labels)\n",
    "\n",
    "    # color_blind_list = sns.color_palette(\"colorblind\", labels.shape[0])\n",
    "    # sns.set_palette(color_blind_list)\n",
    "    ax = plt.gca()\n",
    "    if samples is True:\n",
    "        for i, label in enumerate(y):\n",
    "            label_num = np.where(labels == label)[0][0]\n",
    "            plt.scatter(X[i, 0], X[i, 1], c=color_blind_list[label_num],\n",
    "                        s=80, marker=symlist[label_num])\n",
    "    plt.xlim([min_tot0, max_tot0])\n",
    "    plt.ylim([min_tot1, max_tot1])\n",
    "    ax.get_yaxis().set_ticks([])\n",
    "    ax.get_xaxis().set_ticks([])\n",
    "    if w is not None:\n",
    "        plt.plot([min_tot0, max_tot0],\n",
    "                 [min_tot0 * -w[1] / w[2] - w[0] / w[2],\n",
    "                  max_tot0 * -w[1] / w[2] - w[0] / w[2]],\n",
    "                 \"k\", alpha=alpha_choice)\n",
    "    plt.title(\"L=\" + str(n_labels) + \",k=\" +\n",
    "              str(n_neighbors))\n",
    "\n",
    "\n",
    "def frontiere_3d(f, data, step=20):\n",
    "    \"\"\"Plot the 3d frontiere for the decision function f.\"\"\"\n",
    "    ax = plt.gca(projection='3d')\n",
    "    xmin, xmax = data[:, 0].min() - 1., data[:, 0].max() + 1.\n",
    "    ymin, ymax = data[:, 1].min() - 1., data[:, 1].max() + 1.\n",
    "    xx, yy = np.meshgrid(np.arange(xmin, xmax, (xmax - xmin) * 1. / step),\n",
    "                         np.arange(ymin, ymax, (ymax - ymin) * 1. / step))\n",
    "    z = np.array([f(vec) for vec in np.c_[xx.ravel(), yy.ravel()]])\n",
    "    z = z.reshape(xx.shape)\n",
    "    ax.plot_surface(xx, yy, z, rstride=1, cstride=1,\n",
    "                    linewidth=0., antialiased=False,\n",
    "                    cmap=plt.cm.coolwarm)\n",
    "\n",
    "\n",
    "def plot_cout(X, y, loss_fun, w=None):\n",
    "    \"\"\"Plot the cost function encoded by loss_fun,\n",
    "\n",
    "    Parameters\n",
    "    ----------\n",
    "    X : data features\n",
    "    y :  labels\n",
    "    loss_fun : loss function\n",
    "    w : (optionnal) can be used to give a historic path of the weights \"\"\"\n",
    "    def _inter(wn):\n",
    "        ww = np.zeros(3)\n",
    "        ww[1:] = wn\n",
    "        return loss_fun(X, y, ww).mean()\n",
    "    datarange = np.array([[np.min(X[:, 0]), np.min(X[:, 1])],\n",
    "                          [np.max(X[:, 0]), np.max(X[:, 1])]])\n",
    "    frontiere(_inter, np.array(datarange))\n",
    "    if w is not None:\n",
    "        plt.plot(w[:, 1], w[:, 2], 'k')\n",
    "    plt.xlim([np.min(X[:, 0]), np.max(X[:, 0])])\n",
    "    plt.ylim([np.min(X[:, 1]), np.max(X[:, 1])])\n",
    "\n",
    "\n",
    "def plot_cout3d(x, y, loss_fun, w):\n",
    "    \"\"\" trace le cout de la fonction cout loss_fun passee en parametre, en x,y,\n",
    "        en faisant varier les coordonnees du poids w.\n",
    "        W peut etre utilise pour passer un historique de poids\"\"\"\n",
    "    def _inter(wn):\n",
    "        ww = np.zeros(3)\n",
    "        ww[1:] = wn\n",
    "        return loss_fun(x, y, ww).mean()\n",
    "\n",
    "    datarange = np.array([[w[:, 1].min(), w[:, 2].min()],\n",
    "                         [w[:, 1].max(), w[:, 2].max()]])\n",
    "    frontiere_3d(_inter, np.array(datarange))\n",
    "    plt.plot(w[:, 1], w[:, 2], np.array([_inter(w[i, 1:]) for i in\n",
    "             range(w.shape[0])]), 'k-', linewidth=3)"
   ]
  },
  {
   "cell_type": "markdown",
   "metadata": {},
   "source": [
    "###                Algorithms and functions"
   ]
  },
  {
   "cell_type": "code",
   "execution_count": 7,
   "metadata": {},
   "outputs": [],
   "source": [
    "def gradient(x, y, eps, niter, w_ini, loss_fun, gr_loss_fun, stochastic=True):\n",
    "    \"\"\" algorithme de descente du gradient:\n",
    "        - x : donnees\n",
    "        - y : label\n",
    "        - eps : facteur multiplicatif de descente\n",
    "        - niter : nombre d'iterations\n",
    "        - w_ini\n",
    "        - loss_fun : fonction de cout\n",
    "        - gr_loss_fun : gradient de la fonction de cout\n",
    "        - stoch : True : gradient stochastique\n",
    "        \"\"\"\n",
    "    w = np.zeros((niter, w_ini.size))\n",
    "    w[0] = w_ini\n",
    "    loss = np.zeros(niter)\n",
    "    loss[0] = loss_fun(x, y, w[0]).mean()\n",
    "    for i in range(1, niter):\n",
    "        if stochastic:  # this is for Stochastic Gradient Descent\n",
    "            idx = [np.random.randint(x.shape[0])]\n",
    "        else:           # this is for pure Gradient Descent\n",
    "            idx = np.arange(x.shape[0])\n",
    "        w[i, :] = w[i - 1, :] - eps * gr_loss_fun(x[idx, :],\n",
    "                                                  y[idx], w[i - 1, :])\n",
    "        loss[i] = loss_fun(x, y, w[i, :]).mean()\n",
    "    return w, loss\n",
    "\n",
    "\n",
    "def plot_gradient(X, y, wh, cost_hist, loss_fun):\n",
    "    \"\"\" display 4 figures on how  (stochastic) gradient descent behaves\n",
    "    wh : solution history\n",
    "    cost_hist : cost history\n",
    "    loss_fun : loss function\n",
    "    \"\"\"\n",
    "    best = np.argmin(cost_hist)\n",
    "    plt.subplot(221)\n",
    "    plt.title('Data and hyperplane estimated')\n",
    "    plot_2d(X, y, wh[best, :])\n",
    "    plt.subplot(222)\n",
    "    plt.title('Projection of level line and algorithm path')\n",
    "    plot_cout(X, y, loss_fun, wh)\n",
    "    plt.subplot(223)\n",
    "    plt.title('Objective function vs iterations')\n",
    "    plt.plot(range(cost_hist.shape[0]), cost_hist)\n",
    "    plt.subplot(224, projection='3d')\n",
    "    plt.title('Level line and algorithm path')\n",
    "    plot_cout3d(X, y, loss_fun, wh)"
   ]
  },
  {
   "cell_type": "markdown",
   "metadata": {},
   "source": [
    "###                Polynomial transformations"
   ]
  },
  {
   "cell_type": "code",
   "execution_count": 8,
   "metadata": {},
   "outputs": [],
   "source": [
    "def poly2(x):\n",
    "    \"\"\" creates features for second order interactions \"\"\"\n",
    "    if x.ndim == 1:\n",
    "        x = x[None, :]\n",
    "    nb, d = x.shape\n",
    "    res = x\n",
    "    for i in range(0, d):\n",
    "        for j in range(i, d):\n",
    "            res = np.hstack((res, x[:, i:i + 1] * x[:, j:j + 1]))\n",
    "    return res\n",
    "\n",
    "\n",
    "def poly3(x):\n",
    "    \"\"\" creates features for third order interactions \"\"\"\n",
    "    if x.ndim == 1:\n",
    "            x = x[None, :]\n",
    "    nb, d = x.shape\n",
    "    res = poly2(x)\n",
    "    for i in range(0, d):\n",
    "        for j in range(i, d):\n",
    "            for k in range(j, d):\n",
    "                res = np.hstack(\n",
    "                    (res, x[:, i:i + 1] * x[:, j:j + 1] * x[:, k:k + 1]))\n",
    "    return res"
   ]
  },
  {
   "cell_type": "markdown",
   "metadata": {},
   "source": [
    "### Génération artificielle de données"
   ]
  },
  {
   "cell_type": "markdown",
   "metadata": {},
   "source": [
    "#### Test de rand_gauss"
   ]
  },
  {
   "cell_type": "code",
   "execution_count": 9,
   "metadata": {},
   "outputs": [],
   "source": [
    "obs_gauss = rand_gauss()"
   ]
  },
  {
   "cell_type": "code",
   "execution_count": 10,
   "metadata": {},
   "outputs": [
    {
     "data": {
      "text/plain": [
       "(100, 2)"
      ]
     },
     "execution_count": 10,
     "metadata": {},
     "output_type": "execute_result"
    }
   ],
   "source": [
    "obs_gauss.shape"
   ]
  },
  {
   "cell_type": "code",
   "execution_count": 11,
   "metadata": {},
   "outputs": [
    {
     "data": {
      "text/plain": [
       "array([[1.00292226, 1.0196085 ],\n",
       "       [0.90434782, 1.18202823],\n",
       "       [0.89584297, 1.23254108],\n",
       "       [1.01382089, 0.88712976],\n",
       "       [0.96432371, 1.0124992 ],\n",
       "       [1.02912015, 1.01859786],\n",
       "       [0.9283833 , 0.97491847],\n",
       "       [0.74074922, 1.09280134],\n",
       "       [0.76768122, 1.1754222 ],\n",
       "       [1.08967272, 0.99911007],\n",
       "       [0.95754265, 0.98381735],\n",
       "       [1.15027691, 0.9321058 ],\n",
       "       [0.90694914, 1.0886364 ],\n",
       "       [0.95892866, 1.13912581],\n",
       "       [1.10951908, 0.99482272],\n",
       "       [1.11259242, 0.9416144 ],\n",
       "       [0.86190458, 0.91925226],\n",
       "       [0.92764035, 0.93508242],\n",
       "       [1.1562074 , 1.15541112],\n",
       "       [0.92352628, 1.07446727],\n",
       "       [1.04276044, 1.21221858],\n",
       "       [1.01868782, 1.15265203],\n",
       "       [0.9960627 , 0.95708163],\n",
       "       [1.17543382, 0.9350868 ],\n",
       "       [0.96721498, 1.03029766],\n",
       "       [1.02293349, 1.04579564],\n",
       "       [0.86885536, 0.80544469],\n",
       "       [0.99453548, 1.06256054],\n",
       "       [0.94198524, 1.11241421],\n",
       "       [1.05001608, 0.88969139],\n",
       "       [1.07878839, 0.97666022],\n",
       "       [0.9215974 , 1.12823155],\n",
       "       [0.99610279, 0.94529298],\n",
       "       [1.05989228, 1.07773257],\n",
       "       [0.97531111, 1.17531235],\n",
       "       [0.98407539, 1.1145967 ],\n",
       "       [1.0495227 , 1.05073934],\n",
       "       [1.09909251, 0.8882737 ],\n",
       "       [1.19869498, 1.13978921],\n",
       "       [1.166491  , 0.96759411],\n",
       "       [1.14793302, 0.86925749],\n",
       "       [1.09953345, 0.82321952],\n",
       "       [0.82894178, 1.01018956],\n",
       "       [1.02585421, 0.90833007],\n",
       "       [1.04579832, 0.9877201 ],\n",
       "       [1.06729027, 1.04802307],\n",
       "       [1.06761277, 0.99214183],\n",
       "       [0.96167068, 1.1158781 ],\n",
       "       [1.06419687, 0.95690816],\n",
       "       [1.23954349, 1.00487076],\n",
       "       [1.0403368 , 0.92828253],\n",
       "       [1.21093807, 1.15549964],\n",
       "       [0.91147819, 0.98301894],\n",
       "       [1.07898835, 0.84429634],\n",
       "       [1.00446049, 1.01785115],\n",
       "       [0.99624074, 1.02930095],\n",
       "       [1.1706269 , 0.98933521],\n",
       "       [0.9514122 , 0.93124151],\n",
       "       [1.0329543 , 1.08011761],\n",
       "       [1.09016575, 0.94629987],\n",
       "       [1.06819035, 0.96776846],\n",
       "       [0.87629571, 1.0503836 ],\n",
       "       [0.81095198, 1.03227857],\n",
       "       [0.88925147, 1.08919758],\n",
       "       [1.19429976, 0.93287386],\n",
       "       [0.97851393, 0.98442113],\n",
       "       [0.90612582, 0.92119806],\n",
       "       [1.02571922, 1.02526243],\n",
       "       [1.19697226, 1.07223699],\n",
       "       [0.90196215, 1.09281061],\n",
       "       [0.94306947, 1.05332061],\n",
       "       [1.06956345, 1.06930258],\n",
       "       [0.82868009, 0.80372451],\n",
       "       [1.15707292, 1.11101251],\n",
       "       [1.05843797, 0.93907934],\n",
       "       [1.02094186, 1.00257888],\n",
       "       [0.94877793, 0.91702856],\n",
       "       [0.98447224, 1.06786252],\n",
       "       [0.90844725, 1.21862359],\n",
       "       [1.05027392, 1.10903017],\n",
       "       [0.89959009, 1.00757625],\n",
       "       [1.08757646, 0.90111362],\n",
       "       [1.07537981, 1.06548201],\n",
       "       [0.98985773, 1.0459337 ],\n",
       "       [1.1251984 , 1.00313965],\n",
       "       [1.19211222, 1.03259726],\n",
       "       [1.00478247, 0.94510395],\n",
       "       [0.89128131, 1.0454228 ],\n",
       "       [0.87876807, 0.96498309],\n",
       "       [0.99499053, 0.97615386],\n",
       "       [1.00096699, 1.04065108],\n",
       "       [0.90336984, 0.97472524],\n",
       "       [0.97790626, 1.06910988],\n",
       "       [0.97017026, 1.02267532],\n",
       "       [0.85964711, 0.93637893],\n",
       "       [1.11323734, 0.90494941],\n",
       "       [1.12301747, 0.89577107],\n",
       "       [1.15068411, 1.12654286],\n",
       "       [0.94676389, 1.09102096],\n",
       "       [1.18679166, 1.03975776]])"
      ]
     },
     "execution_count": 11,
     "metadata": {},
     "output_type": "execute_result"
    }
   ],
   "source": [
    "obs_gauss"
   ]
  },
  {
   "cell_type": "markdown",
   "metadata": {},
   "source": [
    "rand_gauss() retourne une matrice de (100, 2) d echantillons distribués suivant la loi standard normal"
   ]
  },
  {
   "cell_type": "code",
   "execution_count": 12,
   "metadata": {},
   "outputs": [],
   "source": [
    "obs_bi_gauss = rand_bi_gauss()"
   ]
  },
  {
   "cell_type": "code",
   "execution_count": 13,
   "metadata": {},
   "outputs": [
    {
     "data": {
      "text/plain": [
       "(200, 2)"
      ]
     },
     "execution_count": 13,
     "metadata": {},
     "output_type": "execute_result"
    }
   ],
   "source": [
    "obs_bi_gauss[0].shape"
   ]
  },
  {
   "cell_type": "code",
   "execution_count": 14,
   "metadata": {},
   "outputs": [
    {
     "data": {
      "text/plain": [
       "(200,)"
      ]
     },
     "execution_count": 14,
     "metadata": {},
     "output_type": "execute_result"
    }
   ],
   "source": [
    "obs_bi_gauss[1].shape"
   ]
  },
  {
   "cell_type": "markdown",
   "metadata": {},
   "source": [
    "rand_bi_gauss() retourne un tuple. chaque élément du tuple est une matrice. \n",
    "- le premier élément du tuple est une matrice de données aléatoires distribuées suivant une loi gaussienne.\n",
    "- le second élément est un vecteur de labels dont les valeurs sont -1 ou 1."
   ]
  },
  {
   "cell_type": "code",
   "execution_count": 15,
   "metadata": {},
   "outputs": [],
   "source": [
    "obs_clown = rand_clown(100, 100, 1, 1.2)"
   ]
  },
  {
   "cell_type": "code",
   "execution_count": 16,
   "metadata": {},
   "outputs": [
    {
     "data": {
      "text/plain": [
       "(200, 2)"
      ]
     },
     "execution_count": 16,
     "metadata": {},
     "output_type": "execute_result"
    }
   ],
   "source": [
    "obs_clown[0].shape"
   ]
  },
  {
   "cell_type": "code",
   "execution_count": 17,
   "metadata": {},
   "outputs": [
    {
     "data": {
      "text/plain": [
       "(200,)"
      ]
     },
     "execution_count": 17,
     "metadata": {},
     "output_type": "execute_result"
    }
   ],
   "source": [
    "obs_clown[1].shape"
   ]
  },
  {
   "cell_type": "code",
   "execution_count": 18,
   "metadata": {},
   "outputs": [
    {
     "data": {
      "text/plain": [
       "(array([[ 3.87937739e-01, -9.63441740e-01],\n",
       "        [ 1.30260036e+00,  2.44757750e+00],\n",
       "        [ 1.12217183e+00,  1.36720715e+00],\n",
       "        [-1.80592083e-01,  4.57323573e-01],\n",
       "        [ 1.41713335e+00,  1.63861167e+00],\n",
       "        [-7.52296847e-01,  2.21854643e-02],\n",
       "        [ 3.66810019e-01,  4.58639745e-01],\n",
       "        [ 1.31748367e-01,  3.52624856e+00],\n",
       "        [ 3.42410427e+00,  2.06328432e+00],\n",
       "        [ 2.08057176e+00,  5.43826394e+00],\n",
       "        [ 8.82811285e-01,  4.70120093e-01],\n",
       "        [-4.78110138e-01,  2.01389165e+00],\n",
       "        [ 1.30292746e+00,  2.41729882e+00],\n",
       "        [ 1.86781457e-01, -9.83776566e-01],\n",
       "        [-1.15118190e+00,  2.95091967e+00],\n",
       "        [ 2.29135707e+00,  2.15972797e+00],\n",
       "        [-8.45399740e-01,  4.84027566e+00],\n",
       "        [ 3.92835889e-02, -6.35030879e-01],\n",
       "        [ 2.60027923e+00,  3.01429655e+00],\n",
       "        [ 7.62434224e-01,  1.51061255e+00],\n",
       "        [ 5.16470436e-01,  3.11583316e+00],\n",
       "        [ 4.84380487e-02,  3.97522343e+00],\n",
       "        [ 1.48899715e+00,  2.74260233e+00],\n",
       "        [-5.35072928e-02, -6.29908697e-01],\n",
       "        [ 5.49757102e-02, -1.13147576e+00],\n",
       "        [ 1.89581845e-01,  7.38342093e-01],\n",
       "        [ 1.61454627e+00,  2.24241569e+00],\n",
       "        [ 2.94698655e-01, -7.64833442e-01],\n",
       "        [-5.24540269e-01,  1.77127704e+00],\n",
       "        [ 8.05799429e-01,  2.15530954e-01],\n",
       "        [ 2.44513197e+00,  2.50954023e+00],\n",
       "        [-8.43505080e-01,  1.15442040e-02],\n",
       "        [ 3.75047694e-01, -6.38567992e-01],\n",
       "        [-1.11492625e+00,  7.24513046e-01],\n",
       "        [ 1.70966689e+00, -1.75315446e+00],\n",
       "        [ 1.33433411e+00,  7.57100230e-01],\n",
       "        [-6.72486031e-01,  4.21908290e+00],\n",
       "        [-8.70109500e-01,  1.20404111e+00],\n",
       "        [-8.89030736e-01,  2.23285383e+00],\n",
       "        [ 8.08852036e-01,  1.08400780e+00],\n",
       "        [-1.83381742e+00,  2.09330970e+00],\n",
       "        [ 6.40304882e-01,  2.70423372e+00],\n",
       "        [ 1.07045982e+00, -1.29751002e+00],\n",
       "        [-2.65570286e+00,  2.10649099e+00],\n",
       "        [-5.22081493e-01,  1.28514435e+00],\n",
       "        [ 9.14220520e-01,  1.22644661e+00],\n",
       "        [-1.26133504e+00,  1.56790241e+00],\n",
       "        [ 1.56726369e+00,  3.41982002e+00],\n",
       "        [-1.70633215e+00,  2.82500205e+00],\n",
       "        [-3.31623854e-01,  4.81177316e+00],\n",
       "        [ 1.74126714e-02,  2.30894464e+00],\n",
       "        [ 3.12106667e-01,  1.75843177e-02],\n",
       "        [-9.96878406e-01,  7.68189921e-01],\n",
       "        [-9.89728664e-01,  2.85864658e+00],\n",
       "        [-1.30405734e+00,  3.66540557e+00],\n",
       "        [ 4.75955107e-01,  8.50217235e-01],\n",
       "        [-1.36604484e+00,  2.91572025e+00],\n",
       "        [ 1.22213679e-01, -5.04286769e-01],\n",
       "        [ 9.00329318e-01,  7.09376969e-01],\n",
       "        [ 1.87526015e-01,  8.10315096e-01],\n",
       "        [ 5.25783240e-01,  9.05341174e-01],\n",
       "        [-8.09879765e-01,  2.43395368e-02],\n",
       "        [ 6.29501143e-01,  1.41661594e+00],\n",
       "        [-6.68249427e-01,  2.73446070e-01],\n",
       "        [ 8.22355115e-01,  2.21915036e+00],\n",
       "        [ 5.24461166e-01,  9.95099949e-01],\n",
       "        [ 9.52029480e-01,  4.23742957e-01],\n",
       "        [-4.88911875e-01, -5.18073246e-02],\n",
       "        [ 9.71605224e-01,  2.63194696e+00],\n",
       "        [ 2.27113135e-01,  2.71943977e+00],\n",
       "        [ 2.47620792e-03,  8.17497294e-01],\n",
       "        [-2.12226732e+00,  1.28643544e+00],\n",
       "        [ 1.81471088e-01, -9.59269475e-01],\n",
       "        [ 1.69074255e+00,  3.28294716e+00],\n",
       "        [-1.86504217e+00,  3.13924226e+00],\n",
       "        [ 2.45094546e+00,  3.42263280e+00],\n",
       "        [-5.96143995e-01, -1.08571397e+00],\n",
       "        [-9.27127454e-02,  3.78654486e+00],\n",
       "        [ 1.04723074e+00,  2.62575307e+00],\n",
       "        [-3.92740019e-01, -7.75634506e-01],\n",
       "        [ 5.69329948e-01, -9.00553274e-01],\n",
       "        [ 5.83437060e-02, -1.65895426e-01],\n",
       "        [ 7.70825076e-01,  4.58574596e+00],\n",
       "        [ 1.93161314e+00,  3.22603359e+00],\n",
       "        [ 6.50061386e-01,  3.66295711e+00],\n",
       "        [-3.84098989e-01,  9.16463342e-01],\n",
       "        [-5.54754006e-01, -7.74195701e-01],\n",
       "        [-2.01299780e-02, -1.61743889e-01],\n",
       "        [-1.97970425e+00,  3.23215222e+00],\n",
       "        [ 2.82654432e-01, -1.11989069e+00],\n",
       "        [ 5.09085939e-01, -1.86171641e-01],\n",
       "        [ 1.36979144e+00,  2.93805239e+00],\n",
       "        [-2.50768276e+00,  9.04675523e-01],\n",
       "        [-4.93324476e-01,  2.92326568e+00],\n",
       "        [ 2.11260235e+00,  4.16664884e+00],\n",
       "        [ 1.65950039e-02, -5.37764819e-01],\n",
       "        [-3.22653418e-01,  9.30039586e-01],\n",
       "        [-6.53864333e-01, -6.59157218e-02],\n",
       "        [-3.55473705e-01,  8.90991199e-01],\n",
       "        [ 9.34326393e-01,  3.90198344e-01],\n",
       "        [ 3.54195876e-01, -1.04915860e+00],\n",
       "        [-6.64588953e-01,  5.09108596e-01],\n",
       "        [-6.71832635e-01,  2.99446897e+00],\n",
       "        [ 1.28917815e+00,  3.21097094e-01],\n",
       "        [ 3.04190163e-01,  2.57048646e+00],\n",
       "        [-2.77562107e-01,  5.40146275e-01],\n",
       "        [ 9.31161741e-01,  3.30173527e+00],\n",
       "        [-1.46134149e+00,  1.53712041e+00],\n",
       "        [ 9.95838489e-01,  3.35094821e+00],\n",
       "        [-2.63499826e+00,  3.78434813e+00],\n",
       "        [-1.21820466e+00,  1.74285358e+00],\n",
       "        [-1.01137728e+00, -5.55604029e-01],\n",
       "        [-5.05221384e-01,  4.49430938e+00],\n",
       "        [ 1.69746485e+00,  1.49195099e+00],\n",
       "        [ 1.23164017e-01,  5.09617264e-01],\n",
       "        [-6.98789631e-01,  5.97381851e-01],\n",
       "        [-9.86397029e-01,  4.55052291e+00],\n",
       "        [-9.77627961e-01,  3.69288404e+00],\n",
       "        [ 1.25575429e+00,  1.85785591e+00],\n",
       "        [-6.77247424e-01,  9.58165137e-01],\n",
       "        [-1.84534051e+00,  4.20163555e+00],\n",
       "        [-3.24270610e+00,  1.99694302e+00],\n",
       "        [ 2.12433974e+00,  1.93474730e+00],\n",
       "        [-2.62908066e-02,  4.14048942e+00],\n",
       "        [-5.88885870e-01,  2.06611710e+00],\n",
       "        [ 1.47890287e-01, -4.34735041e-01],\n",
       "        [-6.99663907e-01,  2.27279505e+00],\n",
       "        [-7.62617102e-01,  6.08804792e-01],\n",
       "        [-1.36158365e+00,  1.92534980e+00],\n",
       "        [ 5.63316908e-01,  1.95939695e+00],\n",
       "        [ 2.81978564e-02,  3.36494971e+00],\n",
       "        [-3.36871786e+00,  2.08012518e+00],\n",
       "        [-5.26784891e-01,  3.04702119e+00],\n",
       "        [ 7.07797341e-01, -4.31830271e-02],\n",
       "        [ 5.58353770e-01,  1.57416801e+00],\n",
       "        [-2.27379519e+00,  3.96536863e+00],\n",
       "        [ 1.02709103e+00,  4.30251437e+00],\n",
       "        [-3.48645936e+00,  3.65923180e+00],\n",
       "        [-1.85552487e-01,  1.45935552e+00],\n",
       "        [ 3.52144325e-01,  2.72886660e+00],\n",
       "        [ 1.77079135e-01,  1.19099648e+00],\n",
       "        [ 1.27541673e+00,  4.93444037e-01],\n",
       "        [-2.50367298e+00,  5.16046215e+00],\n",
       "        [-7.15356014e-02,  1.03151743e+00],\n",
       "        [ 7.68677276e-01,  2.92862743e+00],\n",
       "        [-1.32528030e+00,  3.50481690e-01],\n",
       "        [ 4.49243023e-01,  4.69872927e-02],\n",
       "        [-8.70376440e-01,  1.16879778e+00],\n",
       "        [ 4.36675124e-01, -6.17981652e-01],\n",
       "        [ 2.80933949e-01, -2.35705939e-01],\n",
       "        [-6.11534587e-02,  7.34104893e-01],\n",
       "        [ 2.30233419e-02,  7.99242877e-01],\n",
       "        [-1.02257438e+00,  1.03413293e+00],\n",
       "        [ 3.40899392e-01,  2.76609673e-01],\n",
       "        [ 1.32593368e+00,  2.78197231e+00],\n",
       "        [-1.43828716e+00,  2.29332002e+00],\n",
       "        [ 9.04579172e-01,  9.23215740e-01],\n",
       "        [ 5.65910079e-01,  9.87390346e-01],\n",
       "        [ 7.91496468e-01,  1.16260129e+00],\n",
       "        [-1.16850330e-01,  1.05690643e+00],\n",
       "        [-7.40234969e-01, -1.07895834e+00],\n",
       "        [-3.75521416e-01,  4.87749872e-01],\n",
       "        [-1.19554682e+00,  2.20324345e+00],\n",
       "        [ 6.53465165e-01,  9.26886490e-01],\n",
       "        [-1.42178175e+00,  2.64269979e+00],\n",
       "        [ 1.07928848e-02,  1.91948035e-01],\n",
       "        [-6.17788388e-01,  1.80866681e+00],\n",
       "        [-7.06771313e-01,  1.96606730e+00],\n",
       "        [-2.56564338e+00,  2.14349957e+00],\n",
       "        [ 2.03353267e+00,  3.79719385e+00],\n",
       "        [ 9.33719039e-01,  1.36664096e+00],\n",
       "        [ 7.19195403e-01,  2.43574970e+00],\n",
       "        [-1.51606229e+00,  2.71264232e+00],\n",
       "        [-7.20710282e-01,  1.93075801e-02],\n",
       "        [-1.94864002e+00,  1.54826178e+00],\n",
       "        [-1.91881913e+00,  3.70161424e+00],\n",
       "        [-9.45156070e-01,  1.97662331e+00],\n",
       "        [-3.20803219e-01,  2.83950294e+00],\n",
       "        [-7.64769074e-02,  2.35345971e-01],\n",
       "        [-5.15186308e-01,  9.70024095e-01],\n",
       "        [ 2.69728403e+00,  2.55756473e+00],\n",
       "        [-1.23250790e-01,  3.59529838e+00],\n",
       "        [ 2.12177828e-01,  2.02618550e+00],\n",
       "        [ 1.35414519e+00,  1.57656783e+00],\n",
       "        [-7.24908010e-01,  4.25497450e-01],\n",
       "        [-5.59044966e-01,  4.22265490e+00],\n",
       "        [ 1.02893458e+00,  2.47605918e+00],\n",
       "        [-1.16391807e+00,  2.65090465e+00],\n",
       "        [-6.21276433e-01,  6.20848705e-01],\n",
       "        [-9.73316958e-01,  1.59299226e+00],\n",
       "        [ 3.69513817e-01,  1.62483297e+00],\n",
       "        [-7.32542653e-02,  1.59651797e+00],\n",
       "        [ 1.75495737e+00,  4.01256066e+00],\n",
       "        [ 2.56594762e-01,  2.17782331e+00],\n",
       "        [-1.05537165e+00,  2.27334588e+00],\n",
       "        [-6.14856215e-03, -5.59076819e-01],\n",
       "        [-9.17524577e-01,  1.25077412e+00],\n",
       "        [-4.85303973e-01,  1.97168221e+00],\n",
       "        [ 5.58283576e-01, -5.69203560e-01],\n",
       "        [-1.10253024e+00,  7.43530056e-01]]),\n",
       " array([ 1., -1.,  1.,  1., -1.,  1.,  1., -1., -1.,  1.,  1.,  1.,  1.,\n",
       "         1.,  1., -1., -1.,  1., -1.,  1., -1., -1.,  1.,  1., -1.,  1.,\n",
       "         1.,  1.,  1.,  1., -1.,  1.,  1.,  1., -1.,  1., -1.,  1., -1.,\n",
       "        -1., -1., -1.,  1., -1., -1.,  1.,  1.,  1., -1., -1., -1.,  1.,\n",
       "         1., -1.,  1., -1., -1.,  1.,  1.,  1.,  1.,  1., -1.,  1., -1.,\n",
       "        -1.,  1.,  1.,  1., -1., -1., -1.,  1., -1., -1., -1.,  1., -1.,\n",
       "         1.,  1., -1.,  1., -1., -1., -1.,  1.,  1.,  1., -1.,  1.,  1.,\n",
       "         1., -1., -1., -1.,  1.,  1.,  1.,  1.,  1.,  1., -1., -1.,  1.,\n",
       "        -1.,  1., -1.,  1., -1., -1., -1.,  1., -1., -1.,  1.,  1., -1.,\n",
       "        -1.,  1.,  1.,  1., -1., -1., -1.,  1.,  1., -1., -1.,  1.,  1.,\n",
       "        -1., -1., -1.,  1.,  1.,  1., -1., -1., -1., -1., -1., -1.,  1.,\n",
       "         1., -1.,  1., -1.,  1.,  1.,  1.,  1.,  1.,  1.,  1.,  1., -1.,\n",
       "         1.,  1.,  1., -1.,  1., -1., -1., -1., -1.,  1., -1.,  1., -1.,\n",
       "        -1.,  1., -1., -1.,  1., -1.,  1., -1., -1.,  1.,  1., -1., -1.,\n",
       "        -1., -1., -1., -1.,  1., -1., -1., -1., -1., -1.,  1.,  1., -1.,\n",
       "        -1., -1., -1., -1.,  1.]))"
      ]
     },
     "execution_count": 18,
     "metadata": {},
     "output_type": "execute_result"
    }
   ],
   "source": [
    "obs_clown"
   ]
  },
  {
   "cell_type": "code",
   "execution_count": 19,
   "metadata": {},
   "outputs": [],
   "source": [
    "obs_checker = rand_checkers()"
   ]
  },
  {
   "cell_type": "code",
   "execution_count": 20,
   "metadata": {},
   "outputs": [
    {
     "data": {
      "text/plain": [
       "(192, 2)"
      ]
     },
     "execution_count": 20,
     "metadata": {},
     "output_type": "execute_result"
    }
   ],
   "source": [
    "obs_checker[0].shape"
   ]
  },
  {
   "cell_type": "code",
   "execution_count": 21,
   "metadata": {},
   "outputs": [
    {
     "data": {
      "text/plain": [
       "(192,)"
      ]
     },
     "execution_count": 21,
     "metadata": {},
     "output_type": "execute_result"
    }
   ],
   "source": [
    "obs_checker[1].shape"
   ]
  },
  {
   "cell_type": "code",
   "execution_count": 22,
   "metadata": {},
   "outputs": [
    {
     "data": {
      "text/plain": [
       "(array([[-0.82499178,  1.59553018],\n",
       "        [-0.19538375, -0.71857721],\n",
       "        [-0.35559137, -1.27017543],\n",
       "        [-0.16906254,  1.81688328],\n",
       "        [-0.51437975,  1.19840601],\n",
       "        [-1.42384735,  0.60243527],\n",
       "        [ 2.01420906, -1.39781022],\n",
       "        [ 0.81708466,  1.5136942 ],\n",
       "        [-0.82856677,  0.02989396],\n",
       "        [-1.35116865, -1.76357293],\n",
       "        [ 1.89793827, -1.05882102],\n",
       "        [-1.34349335,  0.79844277],\n",
       "        [-0.48834281, -0.49956239],\n",
       "        [ 0.11696477,  0.93678872],\n",
       "        [-1.88226567,  1.11120497],\n",
       "        [ 1.14714324, -0.84719258],\n",
       "        [-0.70103859, -0.32152344],\n",
       "        [ 1.94220677, -0.43739427],\n",
       "        [-1.34564282, -1.32194074],\n",
       "        [ 1.62950639,  1.31711131],\n",
       "        [ 1.25944282,  0.18962726],\n",
       "        [ 1.71620316,  1.68702399],\n",
       "        [-0.10600057, -0.0514862 ],\n",
       "        [ 0.82109722,  0.70755964],\n",
       "        [ 1.09016483, -0.21090086],\n",
       "        [-0.15687333,  1.2574991 ],\n",
       "        [-0.17530579, -0.47924752],\n",
       "        [ 0.19568907,  0.85310049],\n",
       "        [ 0.89429187, -0.75423562],\n",
       "        [ 0.36455894,  1.00394699],\n",
       "        [-0.97409199, -1.17904026],\n",
       "        [-0.28674369,  0.64344204],\n",
       "        [-0.63054894, -0.16227436],\n",
       "        [-0.40142874, -0.88968132],\n",
       "        [ 1.20102948, -1.61823007],\n",
       "        [ 1.80016881, -1.60050595],\n",
       "        [ 1.78097072, -0.84248809],\n",
       "        [-1.28434243, -0.08990022],\n",
       "        [ 0.92939251,  1.24051044],\n",
       "        [-0.11976051, -0.33970911],\n",
       "        [ 1.3592357 ,  0.18511191],\n",
       "        [-1.19512366, -0.86356486],\n",
       "        [-1.30441135,  0.513911  ],\n",
       "        [ 0.09903287, -0.13660511],\n",
       "        [ 1.47801035,  0.90434199],\n",
       "        [-1.11288184, -1.53541177],\n",
       "        [-1.77466341,  1.20912851],\n",
       "        [ 0.28565623,  0.11345398],\n",
       "        [ 0.40363147,  0.83201055],\n",
       "        [-1.30675387, -0.50334703],\n",
       "        [-0.25899195,  0.35813243],\n",
       "        [ 1.44729703, -1.73484309],\n",
       "        [-0.59910579,  1.08589272],\n",
       "        [-1.18954348,  1.3679791 ],\n",
       "        [ 1.72114756, -0.00444392],\n",
       "        [-0.64219318, -0.77626467],\n",
       "        [-1.02027806,  0.68405814],\n",
       "        [ 1.58574718, -1.74425881],\n",
       "        [-1.43563629,  1.20065057],\n",
       "        [-1.00112536,  0.46600501],\n",
       "        [ 1.76091803, -0.94864426],\n",
       "        [-0.45227547,  1.67310705],\n",
       "        [ 0.51274173,  1.30294252],\n",
       "        [-1.71433843,  0.02829722],\n",
       "        [ 1.26231459, -1.46466724],\n",
       "        [ 0.31590101,  0.17183511],\n",
       "        [ 0.42769402, -0.03106002],\n",
       "        [ 0.54792531,  0.21384659],\n",
       "        [ 1.62733051, -1.35953796],\n",
       "        [ 1.2813263 ,  0.30621592],\n",
       "        [-0.12383683,  1.67718539],\n",
       "        [ 0.24685318, -1.56554512],\n",
       "        [-0.63334617,  1.97559883],\n",
       "        [ 1.14373067, -1.58425609],\n",
       "        [-0.63809755, -0.97001939],\n",
       "        [-1.86386128,  0.73000374],\n",
       "        [-0.31559734,  1.72484564],\n",
       "        [-0.51215501,  0.89616516],\n",
       "        [-1.46154258, -1.83880671],\n",
       "        [-1.01599327, -1.08852783],\n",
       "        [ 0.2174306 , -0.19845332],\n",
       "        [-1.76075144,  1.17729828],\n",
       "        [-0.56417721, -0.98649314],\n",
       "        [ 1.54283591,  1.75498082],\n",
       "        [-0.67923993,  0.71858327],\n",
       "        [ 1.74546399,  1.1242282 ],\n",
       "        [ 0.49886608, -1.56632767],\n",
       "        [-0.18991962,  1.04327267],\n",
       "        [-0.09551425,  0.06618197],\n",
       "        [ 1.84428774,  1.03180237],\n",
       "        [-0.24578082, -0.90814054],\n",
       "        [ 1.16325239, -1.18365992],\n",
       "        [-0.42645835, -1.92568665],\n",
       "        [ 0.63732683, -1.19769242],\n",
       "        [ 0.55592288, -1.01070264],\n",
       "        [ 2.04585269, -0.86424336],\n",
       "        [-0.20025511,  0.65662552],\n",
       "        [-1.02113908, -0.98425167],\n",
       "        [ 0.34866699, -0.16737241],\n",
       "        [-0.10111248, -1.52353697],\n",
       "        [ 1.48376972, -1.41955689],\n",
       "        [-0.4313228 ,  1.15060594],\n",
       "        [-1.36748942, -0.11544331],\n",
       "        [-1.1585433 , -1.98677069],\n",
       "        [-0.02073573, -0.95695621],\n",
       "        [-1.58855591, -0.60867231],\n",
       "        [-0.74143784, -1.61039316],\n",
       "        [ 1.41164036, -0.39069719],\n",
       "        [-1.52545695,  1.90199046],\n",
       "        [-1.28372754, -0.69990828],\n",
       "        [ 1.74852948,  1.24507945],\n",
       "        [ 1.39042508, -0.67137225],\n",
       "        [ 0.21094716, -1.73884252],\n",
       "        [ 0.79619673, -0.8366117 ],\n",
       "        [ 1.16094245,  1.34276739],\n",
       "        [ 1.7935671 ,  0.14587549],\n",
       "        [ 0.48440901,  0.48140818],\n",
       "        [ 1.7957674 ,  1.26174259],\n",
       "        [ 1.7987684 , -1.5241182 ],\n",
       "        [-0.97946011, -1.81044246],\n",
       "        [-1.32895001, -1.32177568],\n",
       "        [-0.46119701,  0.63017195],\n",
       "        [ 0.68305929,  1.94939226],\n",
       "        [ 1.74856552, -0.0708273 ],\n",
       "        [-1.21397141, -0.67318942],\n",
       "        [-0.41316653, -1.63627409],\n",
       "        [ 0.02370215,  0.68273655],\n",
       "        [ 2.10474396,  0.68318936],\n",
       "        [ 1.06467555,  0.27528905],\n",
       "        [ 1.21252378, -1.98680793],\n",
       "        [ 0.6576086 ,  0.38848631],\n",
       "        [ 1.65104026,  0.50304599],\n",
       "        [-1.26236511, -1.24352401],\n",
       "        [-1.01207484,  1.28801286],\n",
       "        [-1.5733821 , -1.34647864],\n",
       "        [ 1.37500757,  0.44369504],\n",
       "        [-1.55554218,  1.54223925],\n",
       "        [ 1.34682573,  1.62067229],\n",
       "        [ 0.85667407, -1.63224608],\n",
       "        [-0.00655085,  0.6538046 ],\n",
       "        [-1.92555418, -0.87115074],\n",
       "        [ 0.50759868, -0.64430486],\n",
       "        [-1.70744181,  0.12207912],\n",
       "        [ 1.87708047,  1.15646712],\n",
       "        [ 1.58255105, -0.33462316],\n",
       "        [ 0.18077623, -0.47159431],\n",
       "        [ 1.91582086,  1.11167938],\n",
       "        [ 0.5651498 ,  1.74134496],\n",
       "        [-0.91338232, -0.91833006],\n",
       "        [ 0.1469511 , -2.13481623],\n",
       "        [ 0.1945588 ,  1.46295375],\n",
       "        [-1.05882468,  0.29795615],\n",
       "        [-0.81324847, -1.24903319],\n",
       "        [-1.50056559,  0.55306366],\n",
       "        [-1.00373033, -0.17438804],\n",
       "        [-0.38940845,  0.2557205 ],\n",
       "        [ 1.0444428 ,  0.85385344],\n",
       "        [-0.18363828, -1.76433622],\n",
       "        [-0.14595604,  0.3052094 ],\n",
       "        [ 0.56795377, -0.17762335],\n",
       "        [-1.97260209, -1.34517708],\n",
       "        [-1.92924521, -0.9058515 ],\n",
       "        [ 1.29954357,  1.13522609],\n",
       "        [-1.24393607,  0.47000673],\n",
       "        [-1.80126715, -0.45295297],\n",
       "        [-1.95849205, -0.62257638],\n",
       "        [-1.51722763,  0.29870605],\n",
       "        [ 0.62836992, -0.3460819 ],\n",
       "        [ 0.24658894,  1.60095361],\n",
       "        [ 0.23982199, -1.66753437],\n",
       "        [-0.15783348, -1.59053172],\n",
       "        [-0.35244441, -1.13007219],\n",
       "        [ 2.01400648, -1.22928071],\n",
       "        [-2.13595921,  1.80292814],\n",
       "        [ 0.13015644, -1.21491608],\n",
       "        [ 1.78310376, -0.41500605],\n",
       "        [ 0.2925525 , -1.39747405],\n",
       "        [-1.62533621,  1.22873211],\n",
       "        [-1.47245706,  1.83713901],\n",
       "        [ 1.42761431,  1.08003281],\n",
       "        [-0.29029594,  0.14766134],\n",
       "        [ 0.14848712,  1.8686327 ],\n",
       "        [-0.36524075,  1.21824378],\n",
       "        [ 0.61869719, -0.84025398],\n",
       "        [-1.51077548, -0.35610951],\n",
       "        [-1.50557905, -1.66786368],\n",
       "        [ 0.76894052,  2.05787599],\n",
       "        [ 1.31307627, -0.92435077],\n",
       "        [ 0.29776131,  1.0380726 ],\n",
       "        [-0.78994477,  1.5524869 ],\n",
       "        [-1.66577163,  0.74302075],\n",
       "        [-0.93773375,  1.07649431]]),\n",
       " array([ 1.,  1., -1., -1.,  1.,  1., -1., -1., -1.,  1.,  1.,  1.,  1.,\n",
       "        -1., -1.,  1.,  1.,  1.,  1.,  1.,  1.,  1.,  1.,  1., -1.,  1.,\n",
       "         1.,  1., -1.,  1., -1., -1.,  1.,  1., -1., -1.,  1., -1., -1.,\n",
       "         1., -1., -1.,  1., -1., -1.,  1., -1.,  1.,  1., -1., -1., -1.,\n",
       "         1., -1., -1.,  1.,  1., -1., -1., -1.,  1.,  1., -1.,  1., -1.,\n",
       "         1.,  1.,  1., -1., -1.,  1.,  1.,  1., -1., -1.,  1.,  1., -1.,\n",
       "         1.,  1., -1., -1., -1.,  1., -1.,  1.,  1.,  1., -1.,  1.,  1.,\n",
       "         1., -1.,  1.,  1.,  1., -1.,  1., -1.,  1., -1.,  1., -1.,  1.,\n",
       "        -1., -1., -1.,  1., -1., -1.,  1.,  1.,  1., -1.,  1., -1.,  1.,\n",
       "         1., -1., -1.,  1., -1., -1., -1., -1., -1.,  1., -1., -1., -1.,\n",
       "         1., -1.,  1., -1.,  1., -1., -1.,  1.,  1., -1., -1., -1.,  1.,\n",
       "         1.,  1., -1.,  1., -1.,  1.,  1., -1.,  1., -1.,  1., -1., -1.,\n",
       "        -1., -1.,  1., -1.,  1.,  1.,  1.,  1., -1., -1.,  1., -1., -1.,\n",
       "         1., -1., -1., -1., -1.,  1.,  1.,  1., -1., -1., -1., -1., -1.,\n",
       "         1., -1., -1.,  1., -1.,  1., -1., -1.,  1.,  1.]))"
      ]
     },
     "execution_count": 22,
     "metadata": {},
     "output_type": "execute_result"
    }
   ],
   "source": [
    "obs_checker"
   ]
  },
  {
   "cell_type": "markdown",
   "metadata": {},
   "source": [
    "### 3 - Visualiser quelques jeux de données"
   ]
  },
  {
   "cell_type": "code",
   "execution_count": 23,
   "metadata": {},
   "outputs": [
    {
     "data": {
      "image/png": "[encoded data removed]",
      "text/plain": [
       "<Figure size 576x432 with 1 Axes>"
      ]
     },
     "metadata": {},
     "output_type": "display_data"
    }
   ],
   "source": [
    "point_1 = [1,-1]\n",
    "point_2 = [-1,1]\n",
    "plt.plot(point_1, point_2)\n",
    "plot_2d(obs_bi_gauss[0], obs_bi_gauss[1])"
   ]
  },
  {
   "cell_type": "code",
   "execution_count": 24,
   "metadata": {},
   "outputs": [
    {
     "data": {
      "image/png": "[encoded data removed]",
      "text/plain": [
       "<Figure size 576x432 with 1 Axes>"
      ]
     },
     "metadata": {},
     "output_type": "display_data"
    }
   ],
   "source": [
    "plot_2d(obs_clown[0], obs_clown[1])"
   ]
  },
  {
   "cell_type": "code",
   "execution_count": 25,
   "metadata": {},
   "outputs": [
    {
     "data": {
      "image/png": "[encoded data removed]",
      "text/plain": [
       "<Figure size 576x432 with 1 Axes>"
      ]
     },
     "metadata": {},
     "output_type": "display_data"
    }
   ],
   "source": [
    "plot_2d(obs_checker[0], obs_checker[1])"
   ]
  },
  {
   "cell_type": "markdown",
   "metadata": {},
   "source": [
    "### Les classifieurs linéaires (affines)"
   ]
  },
  {
   "cell_type": "code",
   "execution_count": 26,
   "metadata": {},
   "outputs": [
    {
     "data": {
      "text/plain": [
       "(array([[ 0.88576306,  1.15345459],\n",
       "        [ 1.12756331,  1.10031462],\n",
       "        [ 0.84499939,  0.86882282],\n",
       "        [-1.16650376, -1.04603959],\n",
       "        [ 0.93185311,  1.11283444],\n",
       "        [-1.01462635, -0.92065602],\n",
       "        [ 1.17045653,  0.80778507],\n",
       "        [ 1.016814  ,  0.9758568 ],\n",
       "        [ 1.04978124,  0.88375872],\n",
       "        [ 0.84399952,  0.94229965],\n",
       "        [ 0.94207376,  1.04003007],\n",
       "        [ 1.18177203,  0.97350061],\n",
       "        [-1.07770792, -0.99477277],\n",
       "        [-1.05205317, -1.0147074 ],\n",
       "        [-0.91319004, -1.11212168],\n",
       "        [-0.98951733, -0.97403213],\n",
       "        [-0.96001956, -0.97321852],\n",
       "        [-1.11207085, -1.09678953],\n",
       "        [ 1.1985416 ,  0.94465536],\n",
       "        [-0.92687579, -1.04745733],\n",
       "        [-0.99628718, -0.89887571],\n",
       "        [-0.96861663, -1.14834349],\n",
       "        [ 1.00838708,  0.96446689],\n",
       "        [-0.91098167, -0.97095305],\n",
       "        [-1.16370299, -1.043572  ],\n",
       "        [-1.12977376, -0.93240506],\n",
       "        [-0.78923587, -1.13059554],\n",
       "        [-1.16157615, -1.03677618],\n",
       "        [ 0.99496486,  0.84028279],\n",
       "        [-0.98178396, -1.10371991],\n",
       "        [-0.72763116, -0.81758009],\n",
       "        [-1.05458315, -1.05557891],\n",
       "        [ 1.0252584 ,  1.01258783],\n",
       "        [-0.95101366, -0.9453663 ],\n",
       "        [ 0.9566694 ,  1.15982375],\n",
       "        [-0.89831478, -0.94252985],\n",
       "        [ 1.00757654,  0.96158773],\n",
       "        [ 0.88337568,  1.12061521],\n",
       "        [ 0.96554245,  0.98217885],\n",
       "        [-1.09278763, -1.12282349],\n",
       "        [ 0.971524  ,  1.10915409],\n",
       "        [-1.00605748, -1.04601909],\n",
       "        [-1.10743514, -1.02972818],\n",
       "        [ 1.09283989,  1.00402757],\n",
       "        [ 0.84149184,  0.92867129],\n",
       "        [ 1.07135548,  0.95537728],\n",
       "        [-0.92120867, -1.10006875],\n",
       "        [ 0.98505672,  1.0749644 ],\n",
       "        [-0.96247683, -1.03656218],\n",
       "        [ 1.09906307,  1.00366197],\n",
       "        [ 1.07608607,  0.80375959],\n",
       "        [-0.914804  , -1.09584161],\n",
       "        [-1.09197027, -0.95878119],\n",
       "        [-1.10501499, -1.02734826],\n",
       "        [ 1.13385723,  0.9729644 ],\n",
       "        [ 1.02220967,  0.96665646],\n",
       "        [ 1.01017564,  0.87487484],\n",
       "        [-1.04530685, -0.95156475],\n",
       "        [ 0.99125594,  1.26218355],\n",
       "        [-1.16756965, -1.09278747],\n",
       "        [ 0.89956657,  0.95718343],\n",
       "        [-1.02096637, -0.85251539],\n",
       "        [-1.01719575, -0.77313821],\n",
       "        [-1.0081535 , -0.9838682 ],\n",
       "        [-0.97974368, -0.90813028],\n",
       "        [ 0.99771779,  0.99573507],\n",
       "        [-1.02990601, -1.07599771],\n",
       "        [-0.98586978, -1.01681672],\n",
       "        [ 0.99631862,  1.01754158],\n",
       "        [ 1.00728463,  1.08930657],\n",
       "        [ 1.10611206,  1.12698976],\n",
       "        [-1.0209546 , -0.93545882],\n",
       "        [ 1.08193628,  0.83356683],\n",
       "        [ 1.07780697,  1.09211893],\n",
       "        [-0.79585328, -0.98629066],\n",
       "        [-1.06432789, -1.1075852 ],\n",
       "        [-0.95463272, -1.04234024],\n",
       "        [ 1.02187946,  1.05778253],\n",
       "        [ 1.05602891,  1.03065118],\n",
       "        [-1.02443319, -0.94256888],\n",
       "        [-1.05341215, -0.94799518],\n",
       "        [-1.12791712, -1.10916148],\n",
       "        [ 0.96347627,  1.02673783],\n",
       "        [ 1.03891939,  1.09157153],\n",
       "        [-1.13413819, -0.96837085],\n",
       "        [-0.92207896, -1.13141165],\n",
       "        [-1.06690143, -1.03083725],\n",
       "        [ 0.99368329,  1.10180547],\n",
       "        [ 1.14183856,  1.05829192],\n",
       "        [ 0.90794968,  0.90928776],\n",
       "        [ 0.99429855,  0.91295025],\n",
       "        [ 1.0256601 ,  0.8990999 ],\n",
       "        [ 0.96253974,  1.07259649],\n",
       "        [-0.86466942, -1.01368024],\n",
       "        [-1.0359072 , -0.95796595],\n",
       "        [ 0.86390127,  0.90676362],\n",
       "        [ 0.94041796,  1.02390534],\n",
       "        [ 1.04016256,  0.80205573],\n",
       "        [ 1.05988147,  0.76479111],\n",
       "        [ 1.09233496,  0.92565078],\n",
       "        [ 1.03946125,  1.04168755],\n",
       "        [-1.02869525, -1.04700461],\n",
       "        [-1.12793005, -1.00175715],\n",
       "        [ 1.01331047,  1.07373872],\n",
       "        [-0.92509159, -0.99028201],\n",
       "        [ 0.92579756,  1.05830551],\n",
       "        [-0.7949979 , -0.95515227],\n",
       "        [-1.07042999, -0.88211071],\n",
       "        [ 1.08528624,  1.03711111],\n",
       "        [ 1.06116253,  0.94816125],\n",
       "        [-0.91354263, -1.17513435],\n",
       "        [ 0.82806056,  0.95946707],\n",
       "        [ 0.83562938,  1.00632718],\n",
       "        [ 1.03130226,  1.10692238],\n",
       "        [ 0.88868604,  1.00875788],\n",
       "        [ 0.94301415,  1.21775516],\n",
       "        [-1.20073349, -0.79406418],\n",
       "        [-0.95150873, -1.18035526],\n",
       "        [ 0.79153967,  0.93948975],\n",
       "        [ 0.85244929,  0.77871738],\n",
       "        [ 0.96941713,  0.92766133],\n",
       "        [ 0.9550161 ,  1.24059201],\n",
       "        [ 1.01073363,  1.03373374],\n",
       "        [-0.70143419, -1.08718804],\n",
       "        [ 1.22607383,  0.91259515],\n",
       "        [-1.11490306, -1.06205448],\n",
       "        [-1.04476885, -0.9131676 ],\n",
       "        [ 1.04789754,  0.9884008 ],\n",
       "        [-0.94057878, -1.02428959],\n",
       "        [ 0.91941889,  1.02692726],\n",
       "        [ 0.96849834,  1.00419742],\n",
       "        [-0.99805439, -0.83871963],\n",
       "        [ 0.78934618,  1.05424891],\n",
       "        [ 0.95370932,  0.99555576],\n",
       "        [ 0.98634295,  1.05756507],\n",
       "        [ 0.97212746,  0.92258932],\n",
       "        [ 0.71768512,  1.08464837],\n",
       "        [ 0.9298778 ,  0.92635088],\n",
       "        [ 0.88779723,  0.92957714],\n",
       "        [-1.08444206, -1.07398842],\n",
       "        [-0.85780992, -0.88065861],\n",
       "        [-1.06390083, -0.96546563],\n",
       "        [ 1.10146609,  0.89528152],\n",
       "        [-1.18105496, -0.93285345],\n",
       "        [-1.06246789, -0.97788684],\n",
       "        [ 0.97092515,  0.95996178],\n",
       "        [-0.97719938, -0.81477718],\n",
       "        [ 1.19713834,  1.13517934],\n",
       "        [-1.06973696, -0.98182298],\n",
       "        [-0.99232703, -1.01472896],\n",
       "        [-1.09087044, -1.05670071],\n",
       "        [-0.84657865, -1.15212657],\n",
       "        [ 0.98985737,  0.89155709],\n",
       "        [ 1.02006127,  0.96240308],\n",
       "        [ 0.70574593,  1.01573864],\n",
       "        [-1.10471268, -0.89768011],\n",
       "        [ 0.94649967,  0.98341485],\n",
       "        [-0.95882289, -0.8362533 ],\n",
       "        [-0.94399708, -0.88568952],\n",
       "        [-1.05445153, -1.00273589],\n",
       "        [-0.86981215, -1.07639349],\n",
       "        [ 1.10246721,  1.05602278],\n",
       "        [ 1.05195748,  0.84219571],\n",
       "        [-1.08027283, -0.94841863],\n",
       "        [-0.99748233, -1.03583945],\n",
       "        [-0.94189794, -0.93639592],\n",
       "        [ 0.87406131,  1.10591448],\n",
       "        [-0.92419139, -1.0293    ],\n",
       "        [ 0.9567538 ,  1.08419839],\n",
       "        [-0.86218442, -0.87420672],\n",
       "        [-0.81633582, -0.88720805],\n",
       "        [ 0.99837316,  1.05813848],\n",
       "        [-1.06157218, -0.93453382],\n",
       "        [ 1.21389744,  0.93320602],\n",
       "        [ 0.709984  ,  1.02531707],\n",
       "        [-0.97460768, -0.99290357],\n",
       "        [-1.02706694, -0.96102472],\n",
       "        [-1.06224213, -0.9935783 ],\n",
       "        [-1.21086574, -0.93815099],\n",
       "        [ 1.07556688,  0.88912503],\n",
       "        [-1.00649444, -0.96692213],\n",
       "        [-0.9370855 , -0.97990828],\n",
       "        [-0.93030709, -0.89440902],\n",
       "        [-1.11827116, -0.87837126],\n",
       "        [-1.00812437, -0.93648821],\n",
       "        [-1.12260938, -0.97553819],\n",
       "        [-1.22336199, -1.03027207],\n",
       "        [ 0.84384176,  1.0368749 ],\n",
       "        [-0.94881961, -1.0458581 ],\n",
       "        [-0.94389514, -1.01155029],\n",
       "        [-0.9522355 , -0.89548895],\n",
       "        [ 0.89301481,  1.07359691],\n",
       "        [ 1.02108318,  1.00140978],\n",
       "        [ 0.8368818 ,  1.09102871],\n",
       "        [ 0.91841858,  1.24865068],\n",
       "        [-1.12609182, -1.00440469],\n",
       "        [-0.98835137, -0.97656016],\n",
       "        [ 1.05929935,  1.00406033],\n",
       "        [ 1.08759051,  1.08751789],\n",
       "        [ 1.00829941,  1.19022717]]),\n",
       " array([ 1.,  1.,  1., -1.,  1., -1.,  1.,  1.,  1.,  1.,  1.,  1., -1.,\n",
       "        -1., -1., -1., -1., -1.,  1., -1., -1., -1.,  1., -1., -1., -1.,\n",
       "        -1., -1.,  1., -1., -1., -1.,  1., -1.,  1., -1.,  1.,  1.,  1.,\n",
       "        -1.,  1., -1., -1.,  1.,  1.,  1., -1.,  1., -1.,  1.,  1., -1.,\n",
       "        -1., -1.,  1.,  1.,  1., -1.,  1., -1.,  1., -1., -1., -1., -1.,\n",
       "         1., -1., -1.,  1.,  1.,  1., -1.,  1.,  1., -1., -1., -1.,  1.,\n",
       "         1., -1., -1., -1.,  1.,  1., -1., -1., -1.,  1.,  1.,  1.,  1.,\n",
       "         1.,  1., -1., -1.,  1.,  1.,  1.,  1.,  1.,  1., -1., -1.,  1.,\n",
       "        -1.,  1., -1., -1.,  1.,  1., -1.,  1.,  1.,  1.,  1.,  1., -1.,\n",
       "        -1.,  1.,  1.,  1.,  1.,  1., -1.,  1., -1., -1.,  1., -1.,  1.,\n",
       "         1., -1.,  1.,  1.,  1.,  1.,  1.,  1.,  1., -1., -1., -1.,  1.,\n",
       "        -1., -1.,  1., -1.,  1., -1., -1., -1., -1.,  1.,  1.,  1., -1.,\n",
       "         1., -1., -1., -1., -1.,  1.,  1., -1., -1., -1.,  1., -1.,  1.,\n",
       "        -1., -1.,  1., -1.,  1.,  1., -1., -1., -1., -1.,  1., -1., -1.,\n",
       "        -1., -1., -1., -1., -1.,  1., -1., -1., -1.,  1.,  1.,  1.,  1.,\n",
       "        -1., -1.,  1.,  1.,  1.]))"
      ]
     },
     "execution_count": 26,
     "metadata": {},
     "output_type": "execute_result"
    }
   ],
   "source": [
    "obs_bi_gauss"
   ]
  },
  {
   "cell_type": "code",
   "execution_count": 45,
   "metadata": {},
   "outputs": [
    {
     "data": {
      "text/plain": [
       "array([-1.,  1.,  1.,  1.,  1., -1.,  1.,  1.,  1.,  1.,  1.,  1.,  1.,\n",
       "       -1.,  1.,  1.,  1., -1.,  1.,  1.,  1.,  1.,  1., -1., -1.,  1.,\n",
       "        1., -1.,  1.,  1.,  1., -1., -1., -1., -1.,  1.,  1.,  1.,  1.,\n",
       "        1.,  1.,  1., -1., -1.,  1.,  1.,  1.,  1.,  1.,  1.,  1.,  1.,\n",
       "       -1.,  1.,  1.,  1.,  1., -1.,  1.,  1.,  1., -1.,  1., -1.,  1.,\n",
       "        1.,  1., -1.,  1.,  1.,  1., -1., -1.,  1.,  1.,  1., -1.,  1.,\n",
       "        1., -1., -1., -1.,  1.,  1.,  1.,  1., -1., -1.,  1., -1.,  1.,\n",
       "        1., -1.,  1.,  1., -1.,  1., -1.,  1.,  1., -1., -1.,  1.,  1.,\n",
       "        1.,  1.,  1.,  1.,  1.,  1.,  1., -1.,  1.,  1.,  1., -1.,  1.,\n",
       "        1.,  1.,  1.,  1., -1.,  1.,  1.,  1., -1.,  1., -1.,  1.,  1.,\n",
       "        1., -1.,  1.,  1.,  1.,  1.,  1.,  1.,  1.,  1.,  1.,  1.,  1.,\n",
       "        1.,  1., -1.,  1.,  1., -1.,  1.,  1.,  1.,  1.,  1.,  1.,  1.,\n",
       "        1.,  1.,  1.,  1., -1.,  1.,  1.,  1.,  1.,  1.,  1.,  1., -1.,\n",
       "        1.,  1.,  1.,  1., -1., -1.,  1.,  1.,  1.,  1.,  1.,  1.,  1.,\n",
       "        1.,  1., -1.,  1.,  1.,  1., -1.,  1.,  1.,  1.,  1.,  1.,  1.,\n",
       "       -1.,  1.,  1., -1., -1.])"
      ]
     },
     "execution_count": 45,
     "metadata": {},
     "output_type": "execute_result"
    }
   ],
   "source": [
    "w = np.array([0, 2, 2])\n",
    "prediction = predict(obs_bi_gauss[0], w)\n",
    "predict_class(obs_bi_gauss[0],w)"
   ]
  },
  {
   "cell_type": "markdown",
   "metadata": {},
   "source": [
    "### Fonction de coût"
   ]
  },
  {
   "cell_type": "markdown",
   "metadata": {},
   "source": [
    "### Quelle est la nature des fonctions"
   ]
  },
  {
   "cell_type": "code",
   "execution_count": 46,
   "metadata": {},
   "outputs": [],
   "source": [
    "one_loss = zero_one_loss(obs_bi_gauss[0], obs_bi_gauss[1],  w)"
   ]
  },
  {
   "cell_type": "code",
   "execution_count": 47,
   "metadata": {},
   "outputs": [],
   "source": [
    "h_loss = hinge_loss(obs_bi_gauss[0], obs_bi_gauss[1],  w)"
   ]
  },
  {
   "cell_type": "code",
   "execution_count": 48,
   "metadata": {},
   "outputs": [],
   "source": [
    "m_loss = mse_loss(obs_bi_gauss[0], obs_bi_gauss[1],  w)"
   ]
  },
  {
   "cell_type": "code",
   "execution_count": null,
   "metadata": {},
   "outputs": [],
   "source": []
  },
  {
   "cell_type": "code",
   "execution_count": 49,
   "metadata": {},
   "outputs": [],
   "source": [
    "gr_h_loss = gr_hinge_loss(obs_bi_gauss[0], obs_bi_gauss[1],  w)"
   ]
  },
  {
   "cell_type": "code",
   "execution_count": 50,
   "metadata": {},
   "outputs": [],
   "source": [
    "gr_m_loss = gr_mse_loss(obs_bi_gauss[0], obs_bi_gauss[1],  w)"
   ]
  },
  {
   "cell_type": "code",
   "execution_count": 33,
   "metadata": {},
   "outputs": [
    {
     "data": {
      "text/plain": [
       "(200,)"
      ]
     },
     "execution_count": 33,
     "metadata": {},
     "output_type": "execute_result"
    }
   ],
   "source": [
    "one_loss.shape"
   ]
  },
  {
   "cell_type": "code",
   "execution_count": 53,
   "metadata": {},
   "outputs": [
    {
     "data": {
      "text/plain": [
       "[<matplotlib.lines.Line2D at 0x7f0defa03940>]"
      ]
     },
     "execution_count": 53,
     "metadata": {},
     "output_type": "execute_result"
    },
    {
     "data": {
      "image/png": "[encoded data removed]",
      "text/plain": [
       "<Figure size 576x432 with 1 Axes>"
      ]
     },
     "metadata": {},
     "output_type": "display_data"
    }
   ],
   "source": [
    "plt.plot(m_loss)"
   ]
  },
  {
   "cell_type": "code",
   "execution_count": 35,
   "metadata": {},
   "outputs": [
    {
     "data": {
      "image/png": "[encoded data removed]",
      "text/plain": [
       "<Figure size 576x432 with 2 Axes>"
      ]
     },
     "metadata": {},
     "output_type": "display_data"
    }
   ],
   "source": [
    "plot_cout(obs_bi_gauss[0], obs_bi_gauss[1], hinge_loss)"
   ]
  },
  {
   "cell_type": "code",
   "execution_count": 36,
   "metadata": {},
   "outputs": [
    {
     "data": {
      "image/png": "[encoded data removed]",
      "text/plain": [
       "<Figure size 576x432 with 2 Axes>"
      ]
     },
     "metadata": {},
     "output_type": "display_data"
    }
   ],
   "source": [
    "plot_cout(obs_bi_gauss[0], obs_bi_gauss[1], mse_loss)"
   ]
  },
  {
   "cell_type": "code",
   "execution_count": 37,
   "metadata": {},
   "outputs": [
    {
     "data": {
      "text/plain": [
       "(array([[0., 2., 2.],\n",
       "        [0., 2., 2.],\n",
       "        [0., 2., 2.],\n",
       "        [0., 2., 2.],\n",
       "        [0., 2., 2.],\n",
       "        [0., 2., 2.],\n",
       "        [0., 2., 2.],\n",
       "        [0., 2., 2.],\n",
       "        [0., 2., 2.],\n",
       "        [0., 2., 2.],\n",
       "        [0., 2., 2.],\n",
       "        [0., 2., 2.],\n",
       "        [0., 2., 2.],\n",
       "        [0., 2., 2.],\n",
       "        [0., 2., 2.],\n",
       "        [0., 2., 2.],\n",
       "        [0., 2., 2.],\n",
       "        [0., 2., 2.],\n",
       "        [0., 2., 2.],\n",
       "        [0., 2., 2.]]),\n",
       " array([0., 0., 0., 0., 0., 0., 0., 0., 0., 0., 0., 0., 0., 0., 0., 0., 0.,\n",
       "        0., 0., 0.]))"
      ]
     },
     "execution_count": 37,
     "metadata": {},
     "output_type": "execute_result"
    }
   ],
   "source": [
    "gradient(obs_bi_gauss[0], obs_bi_gauss[1], 1, 20, w,  hinge_loss, gr_hinge_loss)"
   ]
  },
  {
   "cell_type": "code",
   "execution_count": 38,
   "metadata": {},
   "outputs": [
    {
     "data": {
      "text/plain": [
       "(array([[0., 2., 2.],\n",
       "        [0., 2., 2.],\n",
       "        [0., 2., 2.],\n",
       "        [0., 2., 2.],\n",
       "        [0., 2., 2.],\n",
       "        [0., 2., 2.],\n",
       "        [0., 2., 2.],\n",
       "        [0., 2., 2.],\n",
       "        [0., 2., 2.],\n",
       "        [0., 2., 2.],\n",
       "        [0., 2., 2.],\n",
       "        [0., 2., 2.],\n",
       "        [0., 2., 2.],\n",
       "        [0., 2., 2.],\n",
       "        [0., 2., 2.],\n",
       "        [0., 2., 2.],\n",
       "        [0., 2., 2.],\n",
       "        [0., 2., 2.],\n",
       "        [0., 2., 2.],\n",
       "        [0., 2., 2.]]),\n",
       " array([0., 0., 0., 0., 0., 0., 0., 0., 0., 0., 0., 0., 0., 0., 0., 0., 0.,\n",
       "        0., 0., 0.]))"
      ]
     },
     "execution_count": 38,
     "metadata": {},
     "output_type": "execute_result"
    }
   ],
   "source": [
    "gradient(obs_bi_gauss[0], obs_bi_gauss[1], 1, 20, w,  hinge_loss, gr_hinge_loss, False)"
   ]
  },
  {
   "cell_type": "code",
   "execution_count": 39,
   "metadata": {},
   "outputs": [],
   "source": [
    "t = np.ones((3,1))"
   ]
  },
  {
   "cell_type": "code",
   "execution_count": 40,
   "metadata": {},
   "outputs": [],
   "source": [
    "t = np.mat((3,1,2))"
   ]
  },
  {
   "cell_type": "code",
   "execution_count": 41,
   "metadata": {},
   "outputs": [
    {
     "data": {
      "text/plain": [
       "matrix([[3, 1, 2]])"
      ]
     },
     "execution_count": 41,
     "metadata": {},
     "output_type": "execute_result"
    }
   ],
   "source": [
    "t"
   ]
  },
  {
   "cell_type": "code",
   "execution_count": 42,
   "metadata": {},
   "outputs": [],
   "source": [
    "t_ = t.T"
   ]
  },
  {
   "cell_type": "code",
   "execution_count": 43,
   "metadata": {},
   "outputs": [],
   "source": [
    "w_mat = np.array([0, -2, 2])"
   ]
  },
  {
   "cell_type": "code",
   "execution_count": 44,
   "metadata": {},
   "outputs": [
    {
     "ename": "IndexError",
     "evalue": "too many indices for array",
     "output_type": "error",
     "traceback": [
      "\u001b[0;31m---------------------------------------------------------------------------\u001b[0m",
      "\u001b[0;31mIndexError\u001b[0m                                Traceback (most recent call last)",
      "\u001b[0;32m<ipython-input-44-3b579dd5b964>\u001b[0m in \u001b[0;36m<module>\u001b[0;34m\u001b[0m\n\u001b[0;32m----> 1\u001b[0;31m \u001b[0mplot_cout3d\u001b[0m\u001b[0;34m(\u001b[0m\u001b[0mobs_bi_gauss\u001b[0m\u001b[0;34m[\u001b[0m\u001b[0;36m0\u001b[0m\u001b[0;34m]\u001b[0m\u001b[0;34m,\u001b[0m \u001b[0mobs_bi_gauss\u001b[0m\u001b[0;34m[\u001b[0m\u001b[0;36m1\u001b[0m\u001b[0;34m]\u001b[0m\u001b[0;34m,\u001b[0m \u001b[0mhinge_loss\u001b[0m\u001b[0;34m,\u001b[0m \u001b[0mw_mat\u001b[0m\u001b[0;34m)\u001b[0m\u001b[0;34m\u001b[0m\u001b[0;34m\u001b[0m\u001b[0m\n\u001b[0m",
      "\u001b[0;32m<ipython-input-6-a2b001334eea>\u001b[0m in \u001b[0;36mplot_cout3d\u001b[0;34m(x, y, loss_fun, w)\u001b[0m\n\u001b[1;32m    108\u001b[0m         \u001b[0;32mreturn\u001b[0m \u001b[0mloss_fun\u001b[0m\u001b[0;34m(\u001b[0m\u001b[0mx\u001b[0m\u001b[0;34m,\u001b[0m \u001b[0my\u001b[0m\u001b[0;34m,\u001b[0m \u001b[0mww\u001b[0m\u001b[0;34m)\u001b[0m\u001b[0;34m.\u001b[0m\u001b[0mmean\u001b[0m\u001b[0;34m(\u001b[0m\u001b[0;34m)\u001b[0m\u001b[0;34m\u001b[0m\u001b[0;34m\u001b[0m\u001b[0m\n\u001b[1;32m    109\u001b[0m \u001b[0;34m\u001b[0m\u001b[0m\n\u001b[0;32m--> 110\u001b[0;31m     datarange = np.array([[w[:, 1].min(), w[:, 2].min()],\n\u001b[0m\u001b[1;32m    111\u001b[0m                          [w[:, 1].max(), w[:, 2].max()]])\n\u001b[1;32m    112\u001b[0m     \u001b[0mfrontiere_3d\u001b[0m\u001b[0;34m(\u001b[0m\u001b[0m_inter\u001b[0m\u001b[0;34m,\u001b[0m \u001b[0mnp\u001b[0m\u001b[0;34m.\u001b[0m\u001b[0marray\u001b[0m\u001b[0;34m(\u001b[0m\u001b[0mdatarange\u001b[0m\u001b[0;34m)\u001b[0m\u001b[0;34m)\u001b[0m\u001b[0;34m\u001b[0m\u001b[0;34m\u001b[0m\u001b[0m\n",
      "\u001b[0;31mIndexError\u001b[0m: too many indices for array"
     ]
    }
   ],
   "source": [
    "plot_cout3d(obs_bi_gauss[0], obs_bi_gauss[1], hinge_loss, w_mat)"
   ]
  },
  {
   "cell_type": "code",
   "execution_count": null,
   "metadata": {},
   "outputs": [],
   "source": []
  }
 ],
 "metadata": {
  "kernelspec": {
   "display_name": "Python 3",
   "language": "python",
   "name": "python3"
  },
  "language_info": {
   "codemirror_mode": {
    "name": "ipython",
    "version": 3
   },
   "file_extension": ".py",
   "mimetype": "text/x-python",
   "name": "python",
   "nbconvert_exporter": "python",
   "pygments_lexer": "ipython3",
   "version": "3.7.3"
  }
 },
 "nbformat": 4,
 "nbformat_minor": 2
}
